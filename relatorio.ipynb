{
 "cells": [
  {
   "attachments": {},
   "cell_type": "markdown",
   "metadata": {},
   "source": [
    "Aluno: José Carlos Junior"
   ]
  },
  {
   "attachments": {},
   "cell_type": "markdown",
   "metadata": {},
   "source": [
    "Análise de livros mais vendidos da Amazon de 2009 a 2022"
   ]
  },
  {
   "cell_type": "code",
   "execution_count": 1,
   "metadata": {},
   "outputs": [
    {
     "name": "stdout",
     "output_type": "stream",
     "text": [
      "seaborn verion 0.12.1\n",
      "pandas verion 1.5.2\n",
      "numpy verion  1.23.5\n"
     ]
    }
   ],
   "source": [
    "import pandas as pd \n",
    "import numpy as numpy \n",
    "import matplotlib.pyplot as plt \n",
    "%matplotlib inline\n",
    "import seaborn as sns\n",
    "import plotly.express as px\n",
    "\n",
    "print('seaborn verion', sns.__version__)\n",
    "print('pandas verion', pd.__version__)\n",
    "print('numpy verion ', numpy.__version__)\n",
    "\n",
    "sns.set_style('whitegrid')\n",
    "\n",
    "import string\n",
    "import re\n",
    "\n",
    "df = pd.read_csv('bestsellers_with_categories_2022_03_27.csv', sep = ',')"
   ]
  },
  {
   "cell_type": "code",
   "execution_count": 2,
   "metadata": {},
   "outputs": [
    {
     "name": "stdout",
     "output_type": "stream",
     "text": [
      "                                                  Name                 Author  \\\n",
      "0    Act Like a Lady, Think Like a Man: What Men Re...           Steve Harvey   \n",
      "1    Arguing with Idiots: How to Stop Small Minds a...             Glenn Beck   \n",
      "2            Breaking Dawn (The Twilight Saga, Book 4)        Stephenie Meyer   \n",
      "3          Crazy Love: Overwhelmed by a Relentless God           Francis Chan   \n",
      "4    Dead And Gone: A Sookie Stackhouse Novel (Sook...       Charlaine Harris   \n",
      "..                                                 ...                    ...   \n",
      "695                   The Wonderful Things You Will Be  Emily Winfield Martin   \n",
      "696                                 Ugly Love: A Novel         Colleen Hoover   \n",
      "697                                             Verity         Colleen Hoover   \n",
      "698               What to Expect When You're Expecting          Heidi Murkoff   \n",
      "699                            Where the Crawdads Sing            Delia Owens   \n",
      "\n",
      "     User Rating  Reviews  Price  Year        Genre  \n",
      "0            4.6     5013     17  2009  Non Fiction  \n",
      "1            4.6      798      5  2009  Non Fiction  \n",
      "2            4.6     9769     13  2009      Fiction  \n",
      "3            4.7     1542     14  2009  Non Fiction  \n",
      "4            4.6     1541      4  2009      Fiction  \n",
      "..           ...      ...    ...   ...          ...  \n",
      "695          4.9    20920      9  2022      Fiction  \n",
      "696          4.7    33929     10  2022      Fiction  \n",
      "697          4.6    71826     11  2022      Fiction  \n",
      "698          4.8    27052     13  2022  Non Fiction  \n",
      "699          4.8   208917     10  2022      Fiction  \n",
      "\n",
      "[700 rows x 7 columns]\n"
     ]
    }
   ],
   "source": [
    "print(df)"
   ]
  },
  {
   "attachments": {},
   "cell_type": "markdown",
   "metadata": {},
   "source": [
    "Quais os 10 livros com mais Revies de compras?"
   ]
  },
  {
   "cell_type": "code",
   "execution_count": 5,
   "metadata": {},
   "outputs": [
    {
     "data": {
      "text/html": [
       "<div>\n",
       "<style scoped>\n",
       "    .dataframe tbody tr th:only-of-type {\n",
       "        vertical-align: middle;\n",
       "    }\n",
       "\n",
       "    .dataframe tbody tr th {\n",
       "        vertical-align: top;\n",
       "    }\n",
       "\n",
       "    .dataframe thead th {\n",
       "        text-align: right;\n",
       "    }\n",
       "</style>\n",
       "<table border=\"1\" class=\"dataframe\">\n",
       "  <thead>\n",
       "    <tr style=\"text-align: right;\">\n",
       "      <th></th>\n",
       "      <th>User Rating</th>\n",
       "      <th>Reviews</th>\n",
       "      <th>Price</th>\n",
       "      <th>Year</th>\n",
       "    </tr>\n",
       "    <tr>\n",
       "      <th>Name</th>\n",
       "      <th></th>\n",
       "      <th></th>\n",
       "      <th></th>\n",
       "      <th></th>\n",
       "    </tr>\n",
       "  </thead>\n",
       "  <tbody>\n",
       "    <tr>\n",
       "      <th>Where the Crawdads Sing</th>\n",
       "      <td>4.8</td>\n",
       "      <td>168557.666667</td>\n",
       "      <td>12.333333</td>\n",
       "      <td>2020.333333</td>\n",
       "    </tr>\n",
       "    <tr>\n",
       "      <th>The Midnight Library: A Novel</th>\n",
       "      <td>4.3</td>\n",
       "      <td>144313.500000</td>\n",
       "      <td>13.000000</td>\n",
       "      <td>2021.500000</td>\n",
       "    </tr>\n",
       "    <tr>\n",
       "      <th>A Promised Land</th>\n",
       "      <td>4.9</td>\n",
       "      <td>121109.000000</td>\n",
       "      <td>16.000000</td>\n",
       "      <td>2020.000000</td>\n",
       "    </tr>\n",
       "    <tr>\n",
       "      <th>Too Much and Never Enough: How My Family Created the World's Most Dangerous Man</th>\n",
       "      <td>4.6</td>\n",
       "      <td>100534.000000</td>\n",
       "      <td>10.000000</td>\n",
       "      <td>2020.000000</td>\n",
       "    </tr>\n",
       "    <tr>\n",
       "      <th>The Four Winds: A Novel</th>\n",
       "      <td>4.5</td>\n",
       "      <td>96810.000000</td>\n",
       "      <td>14.000000</td>\n",
       "      <td>2021.000000</td>\n",
       "    </tr>\n",
       "    <tr>\n",
       "      <th>The Boy, the Mole, the Fox and the Horse</th>\n",
       "      <td>4.8</td>\n",
       "      <td>93749.000000</td>\n",
       "      <td>10.000000</td>\n",
       "      <td>2021.000000</td>\n",
       "    </tr>\n",
       "    <tr>\n",
       "      <th>The Vanishing Half: A Novel</th>\n",
       "      <td>4.4</td>\n",
       "      <td>83490.000000</td>\n",
       "      <td>13.000000</td>\n",
       "      <td>2020.000000</td>\n",
       "    </tr>\n",
       "    <tr>\n",
       "      <th>Becoming</th>\n",
       "      <td>4.8</td>\n",
       "      <td>80344.333333</td>\n",
       "      <td>14.333333</td>\n",
       "      <td>2019.000000</td>\n",
       "    </tr>\n",
       "    <tr>\n",
       "      <th>The Girl on the Train</th>\n",
       "      <td>4.1</td>\n",
       "      <td>79446.000000</td>\n",
       "      <td>12.500000</td>\n",
       "      <td>2015.500000</td>\n",
       "    </tr>\n",
       "    <tr>\n",
       "      <th>Midnight Sun</th>\n",
       "      <td>4.8</td>\n",
       "      <td>79334.000000</td>\n",
       "      <td>14.000000</td>\n",
       "      <td>2020.000000</td>\n",
       "    </tr>\n",
       "  </tbody>\n",
       "</table>\n",
       "</div>"
      ],
      "text/plain": [
       "                                                    User Rating  \\\n",
       "Name                                                              \n",
       "Where the Crawdads Sing                                     4.8   \n",
       "The Midnight Library: A Novel                               4.3   \n",
       "A Promised Land                                             4.9   \n",
       "Too Much and Never Enough: How My Family Create...          4.6   \n",
       "The Four Winds: A Novel                                     4.5   \n",
       "The Boy, the Mole, the Fox and the Horse                    4.8   \n",
       "The Vanishing Half: A Novel                                 4.4   \n",
       "Becoming                                                    4.8   \n",
       "The Girl on the Train                                       4.1   \n",
       "Midnight Sun                                                4.8   \n",
       "\n",
       "                                                          Reviews      Price  \\\n",
       "Name                                                                           \n",
       "Where the Crawdads Sing                             168557.666667  12.333333   \n",
       "The Midnight Library: A Novel                       144313.500000  13.000000   \n",
       "A Promised Land                                     121109.000000  16.000000   \n",
       "Too Much and Never Enough: How My Family Create...  100534.000000  10.000000   \n",
       "The Four Winds: A Novel                              96810.000000  14.000000   \n",
       "The Boy, the Mole, the Fox and the Horse             93749.000000  10.000000   \n",
       "The Vanishing Half: A Novel                          83490.000000  13.000000   \n",
       "Becoming                                             80344.333333  14.333333   \n",
       "The Girl on the Train                                79446.000000  12.500000   \n",
       "Midnight Sun                                         79334.000000  14.000000   \n",
       "\n",
       "                                                           Year  \n",
       "Name                                                             \n",
       "Where the Crawdads Sing                             2020.333333  \n",
       "The Midnight Library: A Novel                       2021.500000  \n",
       "A Promised Land                                     2020.000000  \n",
       "Too Much and Never Enough: How My Family Create...  2020.000000  \n",
       "The Four Winds: A Novel                             2021.000000  \n",
       "The Boy, the Mole, the Fox and the Horse            2021.000000  \n",
       "The Vanishing Half: A Novel                         2020.000000  \n",
       "Becoming                                            2019.000000  \n",
       "The Girl on the Train                               2015.500000  \n",
       "Midnight Sun                                        2020.000000  "
      ]
     },
     "execution_count": 5,
     "metadata": {},
     "output_type": "execute_result"
    }
   ],
   "source": [
    "df[\"Reviews\"]\n",
    "#maisReviews = df.groupby([\"Name\"]).mean()\n",
    "(\n",
    "    maisReviews.sort_values('Reviews', ascending=False).head(10)\n",
    ")"
   ]
  },
  {
   "attachments": {},
   "cell_type": "markdown",
   "metadata": {},
   "source": [
    "Quais os 10 livros com menos Revies de compras?"
   ]
  },
  {
   "cell_type": "code",
   "execution_count": 7,
   "metadata": {},
   "outputs": [
    {
     "data": {
      "text/html": [
       "<div>\n",
       "<style scoped>\n",
       "    .dataframe tbody tr th:only-of-type {\n",
       "        vertical-align: middle;\n",
       "    }\n",
       "\n",
       "    .dataframe tbody tr th {\n",
       "        vertical-align: top;\n",
       "    }\n",
       "\n",
       "    .dataframe thead th {\n",
       "        text-align: right;\n",
       "    }\n",
       "</style>\n",
       "<table border=\"1\" class=\"dataframe\">\n",
       "  <thead>\n",
       "    <tr style=\"text-align: right;\">\n",
       "      <th></th>\n",
       "      <th>User Rating</th>\n",
       "      <th>Reviews</th>\n",
       "      <th>Price</th>\n",
       "      <th>Year</th>\n",
       "    </tr>\n",
       "    <tr>\n",
       "      <th>Name</th>\n",
       "      <th></th>\n",
       "      <th></th>\n",
       "      <th></th>\n",
       "      <th></th>\n",
       "    </tr>\n",
       "  </thead>\n",
       "  <tbody>\n",
       "    <tr>\n",
       "      <th>Divine Soul Mind Body Healing and Transmission System: The Divine Way to Heal You, Humanity, Mother Earth, and All…</th>\n",
       "      <td>4.6</td>\n",
       "      <td>37.0</td>\n",
       "      <td>6.0</td>\n",
       "      <td>2009.0</td>\n",
       "    </tr>\n",
       "    <tr>\n",
       "      <th>The Whole Body Reset: Your Weight-Loss Plan for a Flat Belly, Optimum Health &amp; a Body You'll Love at Midlife and Beyond</th>\n",
       "      <td>4.2</td>\n",
       "      <td>206.0</td>\n",
       "      <td>20.0</td>\n",
       "      <td>2022.0</td>\n",
       "    </tr>\n",
       "    <tr>\n",
       "      <th>Soul Healing Miracles: Ancient and New Sacred Wisdom, Knowledge, and Practical Techniques for Healing the Spiritual…</th>\n",
       "      <td>4.6</td>\n",
       "      <td>220.0</td>\n",
       "      <td>17.0</td>\n",
       "      <td>2013.0</td>\n",
       "    </tr>\n",
       "    <tr>\n",
       "      <th>George Washington's Sacred Fire</th>\n",
       "      <td>4.5</td>\n",
       "      <td>408.0</td>\n",
       "      <td>20.0</td>\n",
       "      <td>2010.0</td>\n",
       "    </tr>\n",
       "    <tr>\n",
       "      <th>True Compass: A Memoir</th>\n",
       "      <td>4.5</td>\n",
       "      <td>438.0</td>\n",
       "      <td>15.0</td>\n",
       "      <td>2009.0</td>\n",
       "    </tr>\n",
       "    <tr>\n",
       "      <th>The Daily Show with Jon Stewart Presents Earth (The Book): A Visitor's Guide to the Human Race</th>\n",
       "      <td>4.4</td>\n",
       "      <td>440.0</td>\n",
       "      <td>11.0</td>\n",
       "      <td>2010.0</td>\n",
       "    </tr>\n",
       "    <tr>\n",
       "      <th>A Patriot's History of the United States: From Columbus's Great Discovery to the War on Terror</th>\n",
       "      <td>4.6</td>\n",
       "      <td>460.0</td>\n",
       "      <td>2.0</td>\n",
       "      <td>2010.0</td>\n",
       "    </tr>\n",
       "    <tr>\n",
       "      <th>Broke: The Plan to Restore Our Trust, Truth and Treasure</th>\n",
       "      <td>4.5</td>\n",
       "      <td>471.0</td>\n",
       "      <td>8.0</td>\n",
       "      <td>2010.0</td>\n",
       "    </tr>\n",
       "    <tr>\n",
       "      <th>Autobiography of Mark Twain, Vol. 1</th>\n",
       "      <td>4.2</td>\n",
       "      <td>491.0</td>\n",
       "      <td>14.0</td>\n",
       "      <td>2010.0</td>\n",
       "    </tr>\n",
       "    <tr>\n",
       "      <th>Percy Jackson and the Olympians Paperback Boxed Set (Books 1-3)</th>\n",
       "      <td>4.8</td>\n",
       "      <td>548.0</td>\n",
       "      <td>2.0</td>\n",
       "      <td>2010.0</td>\n",
       "    </tr>\n",
       "  </tbody>\n",
       "</table>\n",
       "</div>"
      ],
      "text/plain": [
       "                                                    User Rating  Reviews  \\\n",
       "Name                                                                       \n",
       "Divine Soul Mind Body Healing and Transmission ...          4.6     37.0   \n",
       "The Whole Body Reset: Your Weight-Loss Plan for...          4.2    206.0   \n",
       "Soul Healing Miracles: Ancient and New Sacred W...          4.6    220.0   \n",
       "George Washington's Sacred Fire                             4.5    408.0   \n",
       "True Compass: A Memoir                                      4.5    438.0   \n",
       "The Daily Show with Jon Stewart Presents Earth ...          4.4    440.0   \n",
       "A Patriot's History of the United States: From ...          4.6    460.0   \n",
       "Broke: The Plan to Restore Our Trust, Truth and...          4.5    471.0   \n",
       "Autobiography of Mark Twain, Vol. 1                         4.2    491.0   \n",
       "Percy Jackson and the Olympians Paperback Boxed...          4.8    548.0   \n",
       "\n",
       "                                                    Price    Year  \n",
       "Name                                                               \n",
       "Divine Soul Mind Body Healing and Transmission ...    6.0  2009.0  \n",
       "The Whole Body Reset: Your Weight-Loss Plan for...   20.0  2022.0  \n",
       "Soul Healing Miracles: Ancient and New Sacred W...   17.0  2013.0  \n",
       "George Washington's Sacred Fire                      20.0  2010.0  \n",
       "True Compass: A Memoir                               15.0  2009.0  \n",
       "The Daily Show with Jon Stewart Presents Earth ...   11.0  2010.0  \n",
       "A Patriot's History of the United States: From ...    2.0  2010.0  \n",
       "Broke: The Plan to Restore Our Trust, Truth and...    8.0  2010.0  \n",
       "Autobiography of Mark Twain, Vol. 1                  14.0  2010.0  \n",
       "Percy Jackson and the Olympians Paperback Boxed...    2.0  2010.0  "
      ]
     },
     "execution_count": 7,
     "metadata": {},
     "output_type": "execute_result"
    }
   ],
   "source": [
    "df[\"Reviews\"]\n",
    "#menosReviews = df.groupby([\"Name\"]).mean()\n",
    "(\n",
    "    menosReviews.sort_values('Reviews', ascending=True).head(10)\n",
    ")"
   ]
  },
  {
   "attachments": {},
   "cell_type": "markdown",
   "metadata": {},
   "source": [
    "Quais os 10 livros com mais Avaliação do utilizador?"
   ]
  },
  {
   "cell_type": "code",
   "execution_count": 9,
   "metadata": {},
   "outputs": [
    {
     "data": {
      "text/html": [
       "<div>\n",
       "<style scoped>\n",
       "    .dataframe tbody tr th:only-of-type {\n",
       "        vertical-align: middle;\n",
       "    }\n",
       "\n",
       "    .dataframe tbody tr th {\n",
       "        vertical-align: top;\n",
       "    }\n",
       "\n",
       "    .dataframe thead th {\n",
       "        text-align: right;\n",
       "    }\n",
       "</style>\n",
       "<table border=\"1\" class=\"dataframe\">\n",
       "  <thead>\n",
       "    <tr style=\"text-align: right;\">\n",
       "      <th></th>\n",
       "      <th>User Rating</th>\n",
       "      <th>Reviews</th>\n",
       "      <th>Price</th>\n",
       "      <th>Year</th>\n",
       "    </tr>\n",
       "    <tr>\n",
       "      <th>Name</th>\n",
       "      <th></th>\n",
       "      <th></th>\n",
       "      <th></th>\n",
       "      <th></th>\n",
       "    </tr>\n",
       "  </thead>\n",
       "  <tbody>\n",
       "    <tr>\n",
       "      <th>Obama: An Intimate Portrait</th>\n",
       "      <td>4.9</td>\n",
       "      <td>3192.0</td>\n",
       "      <td>22.0</td>\n",
       "      <td>2017.0</td>\n",
       "    </tr>\n",
       "    <tr>\n",
       "      <th>The Very Hungry Caterpillar</th>\n",
       "      <td>4.9</td>\n",
       "      <td>27860.2</td>\n",
       "      <td>5.0</td>\n",
       "      <td>2017.5</td>\n",
       "    </tr>\n",
       "    <tr>\n",
       "      <th>I Love You to the Moon and Back</th>\n",
       "      <td>4.9</td>\n",
       "      <td>51188.0</td>\n",
       "      <td>4.0</td>\n",
       "      <td>2021.0</td>\n",
       "    </tr>\n",
       "    <tr>\n",
       "      <th>Big Shot Diary of a Wimpy Kid Book 16</th>\n",
       "      <td>4.9</td>\n",
       "      <td>12259.0</td>\n",
       "      <td>7.0</td>\n",
       "      <td>2021.0</td>\n",
       "    </tr>\n",
       "    <tr>\n",
       "      <th>Rush Revere and the Brave Pilgrims: Time-Travel Adventures with Exceptional Americans (1)</th>\n",
       "      <td>4.9</td>\n",
       "      <td>7150.0</td>\n",
       "      <td>12.0</td>\n",
       "      <td>2013.0</td>\n",
       "    </tr>\n",
       "    <tr>\n",
       "      <th>Humans of New York : Stories</th>\n",
       "      <td>4.9</td>\n",
       "      <td>2812.0</td>\n",
       "      <td>17.0</td>\n",
       "      <td>2015.0</td>\n",
       "    </tr>\n",
       "    <tr>\n",
       "      <th>Brown Bear, Brown Bear, What Do You See?</th>\n",
       "      <td>4.9</td>\n",
       "      <td>29119.0</td>\n",
       "      <td>5.0</td>\n",
       "      <td>2019.8</td>\n",
       "    </tr>\n",
       "    <tr>\n",
       "      <th>Rush Revere and the First Patriots: Time-Travel Adventures With Exceptional Americans (2)</th>\n",
       "      <td>4.9</td>\n",
       "      <td>3836.0</td>\n",
       "      <td>12.0</td>\n",
       "      <td>2014.0</td>\n",
       "    </tr>\n",
       "    <tr>\n",
       "      <th>Chicka Chicka Boom Boom (Board Book)</th>\n",
       "      <td>4.9</td>\n",
       "      <td>30145.0</td>\n",
       "      <td>5.0</td>\n",
       "      <td>2020.0</td>\n",
       "    </tr>\n",
       "    <tr>\n",
       "      <th>Harry Potter and the Sorcerer's Stone: The Illustrated Edition (Harry Potter, Book 1)</th>\n",
       "      <td>4.9</td>\n",
       "      <td>10052.0</td>\n",
       "      <td>22.0</td>\n",
       "      <td>2016.0</td>\n",
       "    </tr>\n",
       "  </tbody>\n",
       "</table>\n",
       "</div>"
      ],
      "text/plain": [
       "                                                    User Rating  Reviews  \\\n",
       "Name                                                                       \n",
       "Obama: An Intimate Portrait                                 4.9   3192.0   \n",
       "The Very Hungry Caterpillar                                 4.9  27860.2   \n",
       "I Love You to the Moon and Back                             4.9  51188.0   \n",
       "Big Shot Diary of a Wimpy Kid Book 16                       4.9  12259.0   \n",
       "Rush Revere and the Brave Pilgrims: Time-Travel...          4.9   7150.0   \n",
       "Humans of New York : Stories                                4.9   2812.0   \n",
       "Brown Bear, Brown Bear, What Do You See?                    4.9  29119.0   \n",
       "Rush Revere and the First Patriots: Time-Travel...          4.9   3836.0   \n",
       "Chicka Chicka Boom Boom (Board Book)                        4.9  30145.0   \n",
       "Harry Potter and the Sorcerer's Stone: The Illu...          4.9  10052.0   \n",
       "\n",
       "                                                    Price    Year  \n",
       "Name                                                               \n",
       "Obama: An Intimate Portrait                          22.0  2017.0  \n",
       "The Very Hungry Caterpillar                           5.0  2017.5  \n",
       "I Love You to the Moon and Back                       4.0  2021.0  \n",
       "Big Shot Diary of a Wimpy Kid Book 16                 7.0  2021.0  \n",
       "Rush Revere and the Brave Pilgrims: Time-Travel...   12.0  2013.0  \n",
       "Humans of New York : Stories                         17.0  2015.0  \n",
       "Brown Bear, Brown Bear, What Do You See?              5.0  2019.8  \n",
       "Rush Revere and the First Patriots: Time-Travel...   12.0  2014.0  \n",
       "Chicka Chicka Boom Boom (Board Book)                  5.0  2020.0  \n",
       "Harry Potter and the Sorcerer's Stone: The Illu...   22.0  2016.0  "
      ]
     },
     "execution_count": 9,
     "metadata": {},
     "output_type": "execute_result"
    }
   ],
   "source": [
    "df[\"User Rating\"]\n",
    "#maisAvaliados = df.groupby([\"Name\"]).mean()\n",
    "(\n",
    "    maisAvaliados.sort_values('User Rating', ascending=False).head(10)\n",
    ")"
   ]
  },
  {
   "attachments": {},
   "cell_type": "markdown",
   "metadata": {},
   "source": [
    "Quais os 10 livros com menos Avaliação do utilizador?"
   ]
  },
  {
   "cell_type": "code",
   "execution_count": 11,
   "metadata": {},
   "outputs": [
    {
     "data": {
      "text/html": [
       "<div>\n",
       "<style scoped>\n",
       "    .dataframe tbody tr th:only-of-type {\n",
       "        vertical-align: middle;\n",
       "    }\n",
       "\n",
       "    .dataframe tbody tr th {\n",
       "        vertical-align: top;\n",
       "    }\n",
       "\n",
       "    .dataframe thead th {\n",
       "        text-align: right;\n",
       "    }\n",
       "</style>\n",
       "<table border=\"1\" class=\"dataframe\">\n",
       "  <thead>\n",
       "    <tr style=\"text-align: right;\">\n",
       "      <th></th>\n",
       "      <th>User Rating</th>\n",
       "      <th>Reviews</th>\n",
       "      <th>Price</th>\n",
       "      <th>Year</th>\n",
       "    </tr>\n",
       "    <tr>\n",
       "      <th>Name</th>\n",
       "      <th></th>\n",
       "      <th></th>\n",
       "      <th></th>\n",
       "      <th></th>\n",
       "    </tr>\n",
       "  </thead>\n",
       "  <tbody>\n",
       "    <tr>\n",
       "      <th>The Casual Vacancy</th>\n",
       "      <td>3.3</td>\n",
       "      <td>9372.0</td>\n",
       "      <td>12.000000</td>\n",
       "      <td>2012.0</td>\n",
       "    </tr>\n",
       "    <tr>\n",
       "      <th>Go Set a Watchman: A Novel</th>\n",
       "      <td>3.6</td>\n",
       "      <td>14982.0</td>\n",
       "      <td>19.000000</td>\n",
       "      <td>2015.0</td>\n",
       "    </tr>\n",
       "    <tr>\n",
       "      <th>Fifty Shades of Grey: Book One of the Fifty Shades Trilogy (Fifty Shades of Grey Series)</th>\n",
       "      <td>3.8</td>\n",
       "      <td>47265.0</td>\n",
       "      <td>14.000000</td>\n",
       "      <td>2012.5</td>\n",
       "    </tr>\n",
       "    <tr>\n",
       "      <th>The Goldfinch: A Novel (Pulitzer Prize for Fiction)</th>\n",
       "      <td>3.9</td>\n",
       "      <td>33844.0</td>\n",
       "      <td>20.000000</td>\n",
       "      <td>2013.5</td>\n",
       "    </tr>\n",
       "    <tr>\n",
       "      <th>Allegiant</th>\n",
       "      <td>3.9</td>\n",
       "      <td>6310.0</td>\n",
       "      <td>13.000000</td>\n",
       "      <td>2013.0</td>\n",
       "    </tr>\n",
       "    <tr>\n",
       "      <th>The Elegance of the Hedgehog</th>\n",
       "      <td>4.0</td>\n",
       "      <td>1859.0</td>\n",
       "      <td>11.000000</td>\n",
       "      <td>2009.0</td>\n",
       "    </tr>\n",
       "    <tr>\n",
       "      <th>Harry Potter and the Cursed Child, Parts 1 &amp; 2, Special Rehearsal Edition Script</th>\n",
       "      <td>4.0</td>\n",
       "      <td>23973.0</td>\n",
       "      <td>12.000000</td>\n",
       "      <td>2016.0</td>\n",
       "    </tr>\n",
       "    <tr>\n",
       "      <th>StrengthsFinder 2.0</th>\n",
       "      <td>4.0</td>\n",
       "      <td>5069.0</td>\n",
       "      <td>17.000000</td>\n",
       "      <td>2013.0</td>\n",
       "    </tr>\n",
       "    <tr>\n",
       "      <th>Wacky Waving Inflatable Tube Guy (RP Minis)</th>\n",
       "      <td>4.0</td>\n",
       "      <td>35772.0</td>\n",
       "      <td>12.000000</td>\n",
       "      <td>2020.0</td>\n",
       "    </tr>\n",
       "    <tr>\n",
       "      <th>Gone Girl</th>\n",
       "      <td>4.0</td>\n",
       "      <td>57271.0</td>\n",
       "      <td>9.666667</td>\n",
       "      <td>2013.0</td>\n",
       "    </tr>\n",
       "  </tbody>\n",
       "</table>\n",
       "</div>"
      ],
      "text/plain": [
       "                                                    User Rating  Reviews  \\\n",
       "Name                                                                       \n",
       "The Casual Vacancy                                          3.3   9372.0   \n",
       "Go Set a Watchman: A Novel                                  3.6  14982.0   \n",
       "Fifty Shades of Grey: Book One of the Fifty Sha...          3.8  47265.0   \n",
       "The Goldfinch: A Novel (Pulitzer Prize for Fict...          3.9  33844.0   \n",
       "Allegiant                                                   3.9   6310.0   \n",
       "The Elegance of the Hedgehog                                4.0   1859.0   \n",
       "Harry Potter and the Cursed Child, Parts 1 & 2,...          4.0  23973.0   \n",
       "StrengthsFinder 2.0                                         4.0   5069.0   \n",
       "Wacky Waving Inflatable Tube Guy (RP Minis)                 4.0  35772.0   \n",
       "Gone Girl                                                   4.0  57271.0   \n",
       "\n",
       "                                                        Price    Year  \n",
       "Name                                                                   \n",
       "The Casual Vacancy                                  12.000000  2012.0  \n",
       "Go Set a Watchman: A Novel                          19.000000  2015.0  \n",
       "Fifty Shades of Grey: Book One of the Fifty Sha...  14.000000  2012.5  \n",
       "The Goldfinch: A Novel (Pulitzer Prize for Fict...  20.000000  2013.5  \n",
       "Allegiant                                           13.000000  2013.0  \n",
       "The Elegance of the Hedgehog                        11.000000  2009.0  \n",
       "Harry Potter and the Cursed Child, Parts 1 & 2,...  12.000000  2016.0  \n",
       "StrengthsFinder 2.0                                 17.000000  2013.0  \n",
       "Wacky Waving Inflatable Tube Guy (RP Minis)         12.000000  2020.0  \n",
       "Gone Girl                                            9.666667  2013.0  "
      ]
     },
     "execution_count": 11,
     "metadata": {},
     "output_type": "execute_result"
    }
   ],
   "source": [
    "df[\"User Rating\"]\n",
    "#menosAvaliados = df.groupby([\"Name\"]).mean()\n",
    "(\n",
    "    menosAvaliados.sort_values('User Rating', ascending=True).head(10)\n",
    ")"
   ]
  },
  {
   "attachments": {},
   "cell_type": "markdown",
   "metadata": {},
   "source": [
    "Quais autores tiveram mais livros escritos?"
   ]
  },
  {
   "cell_type": "code",
   "execution_count": 12,
   "metadata": {},
   "outputs": [
    {
     "data": {
      "text/html": [
       "<div>\n",
       "<style scoped>\n",
       "    .dataframe tbody tr th:only-of-type {\n",
       "        vertical-align: middle;\n",
       "    }\n",
       "\n",
       "    .dataframe tbody tr th {\n",
       "        vertical-align: top;\n",
       "    }\n",
       "\n",
       "    .dataframe thead th {\n",
       "        text-align: right;\n",
       "    }\n",
       "</style>\n",
       "<table border=\"1\" class=\"dataframe\">\n",
       "  <thead>\n",
       "    <tr style=\"text-align: right;\">\n",
       "      <th></th>\n",
       "      <th>Name</th>\n",
       "      <th>User Rating</th>\n",
       "      <th>Reviews</th>\n",
       "      <th>Price</th>\n",
       "      <th>Year</th>\n",
       "      <th>Genre</th>\n",
       "    </tr>\n",
       "    <tr>\n",
       "      <th>Author</th>\n",
       "      <th></th>\n",
       "      <th></th>\n",
       "      <th></th>\n",
       "      <th></th>\n",
       "      <th></th>\n",
       "      <th></th>\n",
       "    </tr>\n",
       "  </thead>\n",
       "  <tbody>\n",
       "    <tr>\n",
       "      <th>Gary Chapman</th>\n",
       "      <td>14</td>\n",
       "      <td>14</td>\n",
       "      <td>14</td>\n",
       "      <td>14</td>\n",
       "      <td>14</td>\n",
       "      <td>14</td>\n",
       "    </tr>\n",
       "    <tr>\n",
       "      <th>Jeff Kinney</th>\n",
       "      <td>14</td>\n",
       "      <td>14</td>\n",
       "      <td>14</td>\n",
       "      <td>14</td>\n",
       "      <td>14</td>\n",
       "      <td>14</td>\n",
       "    </tr>\n",
       "    <tr>\n",
       "      <th>Suzanne Collins</th>\n",
       "      <td>12</td>\n",
       "      <td>12</td>\n",
       "      <td>12</td>\n",
       "      <td>12</td>\n",
       "      <td>12</td>\n",
       "      <td>12</td>\n",
       "    </tr>\n",
       "    <tr>\n",
       "      <th>American Psychological Association</th>\n",
       "      <td>11</td>\n",
       "      <td>11</td>\n",
       "      <td>11</td>\n",
       "      <td>11</td>\n",
       "      <td>11</td>\n",
       "      <td>11</td>\n",
       "    </tr>\n",
       "    <tr>\n",
       "      <th>Rick Riordan</th>\n",
       "      <td>11</td>\n",
       "      <td>11</td>\n",
       "      <td>11</td>\n",
       "      <td>11</td>\n",
       "      <td>11</td>\n",
       "      <td>11</td>\n",
       "    </tr>\n",
       "    <tr>\n",
       "      <th>Eric Carle</th>\n",
       "      <td>10</td>\n",
       "      <td>10</td>\n",
       "      <td>10</td>\n",
       "      <td>10</td>\n",
       "      <td>10</td>\n",
       "      <td>10</td>\n",
       "    </tr>\n",
       "    <tr>\n",
       "      <th>Dr. Seuss</th>\n",
       "      <td>10</td>\n",
       "      <td>10</td>\n",
       "      <td>10</td>\n",
       "      <td>10</td>\n",
       "      <td>10</td>\n",
       "      <td>10</td>\n",
       "    </tr>\n",
       "    <tr>\n",
       "      <th>Dav Pilkey</th>\n",
       "      <td>9</td>\n",
       "      <td>9</td>\n",
       "      <td>9</td>\n",
       "      <td>9</td>\n",
       "      <td>9</td>\n",
       "      <td>9</td>\n",
       "    </tr>\n",
       "    <tr>\n",
       "      <th>Gallup</th>\n",
       "      <td>9</td>\n",
       "      <td>9</td>\n",
       "      <td>9</td>\n",
       "      <td>9</td>\n",
       "      <td>9</td>\n",
       "      <td>9</td>\n",
       "    </tr>\n",
       "    <tr>\n",
       "      <th>Don Miguel Ruiz</th>\n",
       "      <td>9</td>\n",
       "      <td>9</td>\n",
       "      <td>9</td>\n",
       "      <td>9</td>\n",
       "      <td>9</td>\n",
       "      <td>9</td>\n",
       "    </tr>\n",
       "  </tbody>\n",
       "</table>\n",
       "</div>"
      ],
      "text/plain": [
       "                                    Name  User Rating  Reviews  Price  Year  \\\n",
       "Author                                                                        \n",
       "Gary Chapman                          14           14       14     14    14   \n",
       "Jeff Kinney                           14           14       14     14    14   \n",
       "Suzanne Collins                       12           12       12     12    12   \n",
       "American Psychological Association    11           11       11     11    11   \n",
       "Rick Riordan                          11           11       11     11    11   \n",
       "Eric Carle                            10           10       10     10    10   \n",
       "Dr. Seuss                             10           10       10     10    10   \n",
       "Dav Pilkey                             9            9        9      9     9   \n",
       "Gallup                                 9            9        9      9     9   \n",
       "Don Miguel Ruiz                        9            9        9      9     9   \n",
       "\n",
       "                                    Genre  \n",
       "Author                                     \n",
       "Gary Chapman                           14  \n",
       "Jeff Kinney                            14  \n",
       "Suzanne Collins                        12  \n",
       "American Psychological Association     11  \n",
       "Rick Riordan                           11  \n",
       "Eric Carle                             10  \n",
       "Dr. Seuss                              10  \n",
       "Dav Pilkey                              9  \n",
       "Gallup                                  9  \n",
       "Don Miguel Ruiz                         9  "
      ]
     },
     "execution_count": 12,
     "metadata": {},
     "output_type": "execute_result"
    }
   ],
   "source": [
    "df[\"Author\"]\n",
    "df_media = df.groupby([\"Author\"]).count()\n",
    "\n",
    "(\n",
    "    df_media.sort_values('Name', ascending=False)\n",
    "    \n",
    "    .head(10)\n",
    ")"
   ]
  },
  {
   "attachments": {},
   "cell_type": "markdown",
   "metadata": {},
   "source": [
    "Exiba a média das avaliações dos compradores por livros."
   ]
  },
  {
   "cell_type": "code",
   "execution_count": 13,
   "metadata": {},
   "outputs": [
    {
     "data": {
      "application/vnd.plotly.v1+json": {
       "config": {
        "plotlyServerURL": "https://plot.ly"
       },
       "data": [
        {
         "alignmentgroup": "True",
         "hovertemplate": "User Rating=%{x}<extra></extra>",
         "legendgroup": "",
         "marker": {
          "color": "#636efa"
         },
         "name": "",
         "notched": false,
         "offsetgroup": "",
         "orientation": "h",
         "showlegend": false,
         "type": "box",
         "x": [
          4.6,
          4.6,
          4.6,
          4.7,
          4.6,
          4.8,
          4.6,
          4.8,
          4.5,
          4.3,
          4.7,
          4.7,
          4.6,
          4.6,
          4.5,
          4.8,
          4.6,
          4.8,
          4.8,
          4.6,
          4.2,
          4.6,
          4.5,
          4.7,
          4,
          4.5,
          4.8,
          4.6,
          4.7,
          4,
          4.6,
          4.6,
          4.7,
          4.4,
          4.7,
          4.8,
          4.7,
          4.8,
          4.2,
          4.8,
          4.6,
          4.4,
          4.4,
          4.7,
          4.3,
          4.5,
          4.7,
          4.3,
          4.8,
          4.8,
          4.6,
          4.2,
          4.7,
          4.5,
          4.7,
          4.7,
          4.6,
          4.3,
          4.6,
          4.6,
          4.5,
          4.4,
          4.4,
          4.5,
          4.5,
          4.5,
          4.1,
          4.5,
          4.6,
          4.8,
          4.5,
          4.7,
          4.6,
          4.7,
          4,
          4.6,
          4.4,
          4.7,
          4.7,
          4.7,
          4.3,
          4.4,
          4.6,
          4.7,
          4.7,
          4.4,
          4.8,
          4.7,
          4.7,
          4.8,
          4.8,
          4.4,
          4.6,
          4.6,
          4.6,
          4.8,
          4.3,
          4.8,
          4.8,
          4.2,
          4.6,
          4.4,
          4.6,
          4.8,
          4.7,
          4.7,
          4.6,
          4.2,
          4.5,
          4.6,
          4.8,
          4.5,
          4.7,
          4.4,
          4.6,
          4.9,
          4.7,
          4.2,
          4.5,
          4.6,
          4.5,
          4.7,
          4.6,
          4,
          4.4,
          4.3,
          4.3,
          4.7,
          4.6,
          4.7,
          4.7,
          4.1,
          4.6,
          4.7,
          4.8,
          4.8,
          4.7,
          4.8,
          4.7,
          4.4,
          4.4,
          4.4,
          4.3,
          4.8,
          4.7,
          4.6,
          4.3,
          4.8,
          4.5,
          4.4,
          4.8,
          4.7,
          4.5,
          4.4,
          4.5,
          3.8,
          4.5,
          4.6,
          4,
          4.5,
          4.9,
          4.7,
          4.9,
          4.6,
          4.7,
          4.5,
          4.6,
          4.9,
          4.6,
          4.3,
          4.5,
          4.6,
          4.6,
          4,
          4.7,
          4.6,
          4.6,
          4.2,
          3.3,
          4.7,
          4.6,
          4.4,
          4.6,
          4.7,
          4.8,
          4.7,
          4.4,
          4.8,
          4.4,
          4.8,
          4.6,
          4.3,
          4.8,
          4.7,
          4.6,
          4.5,
          4.8,
          4.4,
          4.4,
          4.5,
          3.9,
          4.3,
          4.8,
          4.4,
          4.5,
          4.8,
          4.6,
          4.7,
          3.8,
          4.6,
          4.6,
          4,
          4.9,
          4.8,
          4.8,
          4.7,
          4.1,
          4.9,
          4.5,
          4.5,
          4.5,
          4.6,
          4.5,
          4.9,
          4.3,
          4.5,
          4.6,
          4.9,
          4.1,
          4.6,
          4,
          4.5,
          4.7,
          4.6,
          4.6,
          4.8,
          4.7,
          4.6,
          4.7,
          3.9,
          4.4,
          4.8,
          4.9,
          4.4,
          4.8,
          4.9,
          4.7,
          4.8,
          4.4,
          4.8,
          4.7,
          4.6,
          4.5,
          4.5,
          4.8,
          4.6,
          4.5,
          4.7,
          4.7,
          4,
          4.6,
          4.7,
          4.8,
          4.3,
          4.9,
          4.6,
          4.6,
          4.5,
          4.6,
          4.9,
          4.5,
          4.8,
          4.5,
          4.6,
          4.9,
          4.6,
          4.5,
          4.9,
          4,
          4.7,
          4.7,
          4.8,
          4.6,
          4.8,
          4.8,
          4.8,
          4.7,
          4.7,
          3.9,
          4.4,
          4.5,
          4.4,
          4.9,
          4.6,
          4.8,
          4.5,
          4.8,
          4.8,
          4.7,
          4.8,
          4.6,
          4.4,
          4.5,
          4.6,
          4.6,
          4.6,
          4.6,
          4.8,
          4.7,
          4.8,
          4.8,
          4.8,
          4.6,
          4.7,
          4.7,
          4.8,
          3.6,
          4.4,
          4.7,
          4.7,
          4.9,
          4.9,
          4.6,
          4.5,
          4.6,
          4.8,
          4.6,
          4.9,
          4.8,
          4.5,
          4.7,
          4,
          4.8,
          4.7,
          4.8,
          4.8,
          4.8,
          4.7,
          4.1,
          4.5,
          4.7,
          4.8,
          4.8,
          4.9,
          4.6,
          4.7,
          4.6,
          4.8,
          4.7,
          4.8,
          4.7,
          4.6,
          4.5,
          4.8,
          4.7,
          4.7,
          4.6,
          4.7,
          4.8,
          4.8,
          4.6,
          4.7,
          4.7,
          4.8,
          4.9,
          4.9,
          4,
          4.9,
          4.8,
          4.4,
          4.7,
          4.9,
          4.8,
          4.6,
          4.7,
          4.6,
          4.7,
          4.9,
          4.7,
          4.5,
          4,
          4.8,
          4.7,
          4.8,
          4.7,
          4.1,
          4.8,
          4.5,
          4.9,
          4.8,
          4.3,
          4.9,
          4.6,
          4.9,
          4.6,
          4.8,
          4.7,
          4.8,
          4.8,
          4.7,
          4.7,
          4.7,
          4.6,
          4.7,
          4.9,
          4.8,
          4.9,
          4.7,
          4.8,
          4.8,
          4.9,
          4.4,
          4.7,
          4.8,
          4.6,
          4.6,
          4.5,
          4.7,
          4.7,
          4.4,
          4.9,
          4.9,
          4.5,
          4.3,
          4.8,
          4.5,
          4.8,
          4.6,
          4,
          4.8,
          4.7,
          4.7,
          4.8,
          4.8,
          4.3,
          4.3,
          4.5,
          4.8,
          4.6,
          4.6,
          4.7,
          4.9,
          4.6,
          4.9,
          4.5,
          4.6,
          4.6,
          4.6,
          4.8,
          4.7,
          4.7,
          4.7,
          4.5,
          4.8,
          4.3,
          4.8,
          4.9,
          4.9,
          4.9,
          4.7,
          4.6,
          4.4,
          4.2,
          4.7,
          4.8,
          4.6,
          4.8,
          4.8,
          4.7,
          4.4,
          4.8,
          4.9,
          4.4,
          4.5,
          4.8,
          4.7,
          4.9,
          4.7,
          4.8,
          4.5,
          4.6,
          4.8,
          4.8,
          4.8,
          4.8,
          4.3,
          4.7,
          4.8,
          4.3,
          4.8,
          4.5,
          4.4,
          4.8,
          4.3,
          4.6,
          4.9,
          4.9,
          4.8,
          4.6,
          4.7,
          4.8,
          4.8,
          4.9,
          4.8,
          4.6,
          4.9,
          4.9,
          4.9,
          4.7,
          4.8,
          4.6,
          4.6,
          4.6,
          4.8,
          4.8,
          4.9,
          4.3,
          4.8,
          4.8,
          4.4,
          4.8,
          4.8,
          4.8,
          4.9,
          4.7,
          4.8,
          4.8,
          4.8,
          4.9,
          4.8,
          4.8,
          4.3,
          4.7,
          4.5,
          4.5,
          4.6,
          4.5,
          4.6,
          4.7,
          4.7,
          4.9,
          4.9,
          4.8,
          4.8,
          4.9,
          4.8,
          4.8,
          4.8,
          4.9,
          4.7,
          4.9,
          4.6,
          4.8,
          4.8,
          4.9,
          4.6,
          4.8,
          4.9,
          4.9,
          4.7,
          4.7,
          4.8,
          4.7,
          4.7,
          4.8,
          4.8,
          4.7,
          4.8,
          4.9,
          4.8,
          4.5,
          4.8,
          4.9,
          4.8,
          4.8,
          4.8,
          4.8,
          4.8,
          4.8,
          4.6,
          4.8,
          4.8,
          4.7,
          4.7,
          4.8,
          4.8,
          4.9,
          4.7,
          4.3,
          4.5,
          4.7,
          4.4,
          4.9,
          4.8,
          4.6,
          4.6,
          4,
          4.8,
          4.8,
          4.5,
          4.7,
          4.9,
          4.8,
          4.8,
          4.9,
          4.9,
          4.6,
          4.9,
          4.8,
          4.8,
          4.9,
          4.7,
          4.7,
          4.7,
          4.8,
          4.8,
          4.7,
          4.8,
          4.9,
          4.8,
          4.7,
          4.8,
          4.6,
          4.9,
          4.8,
          4.6,
          4.8,
          4.7,
          4.8,
          4.7,
          4.7,
          4.8,
          4.7,
          4.8,
          4.8,
          4.7,
          4.5,
          4.9,
          4.3,
          4.3,
          4.8,
          4.6,
          4.7,
          4.8,
          4.6,
          4.9,
          4.9,
          4.7,
          4.6,
          4.5,
          4.4,
          4.8,
          4.8,
          4.9,
          4.6,
          4.8,
          4.8,
          4.8,
          4.7,
          4.9,
          4.8,
          4.7,
          4.5,
          4.9,
          4.8,
          4.7,
          4.8,
          4.9,
          4.7,
          4.5,
          4.7,
          4.8,
          4.7,
          4.7,
          4.5,
          4.8,
          4.8,
          4.7,
          4.8,
          4.7,
          4.8,
          4.8,
          4.8,
          4.7,
          4.7,
          4.3,
          4.4,
          4.6,
          4.3,
          4.3,
          4.8,
          4.6,
          4.6,
          4.9,
          4.2,
          4.9,
          4.7,
          4.6,
          4.8,
          4.8
         ],
         "x0": " ",
         "xaxis": "x",
         "y0": " ",
         "yaxis": "y"
        }
       ],
       "layout": {
        "boxmode": "group",
        "legend": {
         "tracegroupgap": 0
        },
        "margin": {
         "t": 60
        },
        "template": {
         "data": {
          "bar": [
           {
            "error_x": {
             "color": "#2a3f5f"
            },
            "error_y": {
             "color": "#2a3f5f"
            },
            "marker": {
             "line": {
              "color": "#E5ECF6",
              "width": 0.5
             },
             "pattern": {
              "fillmode": "overlay",
              "size": 10,
              "solidity": 0.2
             }
            },
            "type": "bar"
           }
          ],
          "barpolar": [
           {
            "marker": {
             "line": {
              "color": "#E5ECF6",
              "width": 0.5
             },
             "pattern": {
              "fillmode": "overlay",
              "size": 10,
              "solidity": 0.2
             }
            },
            "type": "barpolar"
           }
          ],
          "carpet": [
           {
            "aaxis": {
             "endlinecolor": "#2a3f5f",
             "gridcolor": "white",
             "linecolor": "white",
             "minorgridcolor": "white",
             "startlinecolor": "#2a3f5f"
            },
            "baxis": {
             "endlinecolor": "#2a3f5f",
             "gridcolor": "white",
             "linecolor": "white",
             "minorgridcolor": "white",
             "startlinecolor": "#2a3f5f"
            },
            "type": "carpet"
           }
          ],
          "choropleth": [
           {
            "colorbar": {
             "outlinewidth": 0,
             "ticks": ""
            },
            "type": "choropleth"
           }
          ],
          "contour": [
           {
            "colorbar": {
             "outlinewidth": 0,
             "ticks": ""
            },
            "colorscale": [
             [
              0,
              "#0d0887"
             ],
             [
              0.1111111111111111,
              "#46039f"
             ],
             [
              0.2222222222222222,
              "#7201a8"
             ],
             [
              0.3333333333333333,
              "#9c179e"
             ],
             [
              0.4444444444444444,
              "#bd3786"
             ],
             [
              0.5555555555555556,
              "#d8576b"
             ],
             [
              0.6666666666666666,
              "#ed7953"
             ],
             [
              0.7777777777777778,
              "#fb9f3a"
             ],
             [
              0.8888888888888888,
              "#fdca26"
             ],
             [
              1,
              "#f0f921"
             ]
            ],
            "type": "contour"
           }
          ],
          "contourcarpet": [
           {
            "colorbar": {
             "outlinewidth": 0,
             "ticks": ""
            },
            "type": "contourcarpet"
           }
          ],
          "heatmap": [
           {
            "colorbar": {
             "outlinewidth": 0,
             "ticks": ""
            },
            "colorscale": [
             [
              0,
              "#0d0887"
             ],
             [
              0.1111111111111111,
              "#46039f"
             ],
             [
              0.2222222222222222,
              "#7201a8"
             ],
             [
              0.3333333333333333,
              "#9c179e"
             ],
             [
              0.4444444444444444,
              "#bd3786"
             ],
             [
              0.5555555555555556,
              "#d8576b"
             ],
             [
              0.6666666666666666,
              "#ed7953"
             ],
             [
              0.7777777777777778,
              "#fb9f3a"
             ],
             [
              0.8888888888888888,
              "#fdca26"
             ],
             [
              1,
              "#f0f921"
             ]
            ],
            "type": "heatmap"
           }
          ],
          "heatmapgl": [
           {
            "colorbar": {
             "outlinewidth": 0,
             "ticks": ""
            },
            "colorscale": [
             [
              0,
              "#0d0887"
             ],
             [
              0.1111111111111111,
              "#46039f"
             ],
             [
              0.2222222222222222,
              "#7201a8"
             ],
             [
              0.3333333333333333,
              "#9c179e"
             ],
             [
              0.4444444444444444,
              "#bd3786"
             ],
             [
              0.5555555555555556,
              "#d8576b"
             ],
             [
              0.6666666666666666,
              "#ed7953"
             ],
             [
              0.7777777777777778,
              "#fb9f3a"
             ],
             [
              0.8888888888888888,
              "#fdca26"
             ],
             [
              1,
              "#f0f921"
             ]
            ],
            "type": "heatmapgl"
           }
          ],
          "histogram": [
           {
            "marker": {
             "pattern": {
              "fillmode": "overlay",
              "size": 10,
              "solidity": 0.2
             }
            },
            "type": "histogram"
           }
          ],
          "histogram2d": [
           {
            "colorbar": {
             "outlinewidth": 0,
             "ticks": ""
            },
            "colorscale": [
             [
              0,
              "#0d0887"
             ],
             [
              0.1111111111111111,
              "#46039f"
             ],
             [
              0.2222222222222222,
              "#7201a8"
             ],
             [
              0.3333333333333333,
              "#9c179e"
             ],
             [
              0.4444444444444444,
              "#bd3786"
             ],
             [
              0.5555555555555556,
              "#d8576b"
             ],
             [
              0.6666666666666666,
              "#ed7953"
             ],
             [
              0.7777777777777778,
              "#fb9f3a"
             ],
             [
              0.8888888888888888,
              "#fdca26"
             ],
             [
              1,
              "#f0f921"
             ]
            ],
            "type": "histogram2d"
           }
          ],
          "histogram2dcontour": [
           {
            "colorbar": {
             "outlinewidth": 0,
             "ticks": ""
            },
            "colorscale": [
             [
              0,
              "#0d0887"
             ],
             [
              0.1111111111111111,
              "#46039f"
             ],
             [
              0.2222222222222222,
              "#7201a8"
             ],
             [
              0.3333333333333333,
              "#9c179e"
             ],
             [
              0.4444444444444444,
              "#bd3786"
             ],
             [
              0.5555555555555556,
              "#d8576b"
             ],
             [
              0.6666666666666666,
              "#ed7953"
             ],
             [
              0.7777777777777778,
              "#fb9f3a"
             ],
             [
              0.8888888888888888,
              "#fdca26"
             ],
             [
              1,
              "#f0f921"
             ]
            ],
            "type": "histogram2dcontour"
           }
          ],
          "mesh3d": [
           {
            "colorbar": {
             "outlinewidth": 0,
             "ticks": ""
            },
            "type": "mesh3d"
           }
          ],
          "parcoords": [
           {
            "line": {
             "colorbar": {
              "outlinewidth": 0,
              "ticks": ""
             }
            },
            "type": "parcoords"
           }
          ],
          "pie": [
           {
            "automargin": true,
            "type": "pie"
           }
          ],
          "scatter": [
           {
            "fillpattern": {
             "fillmode": "overlay",
             "size": 10,
             "solidity": 0.2
            },
            "type": "scatter"
           }
          ],
          "scatter3d": [
           {
            "line": {
             "colorbar": {
              "outlinewidth": 0,
              "ticks": ""
             }
            },
            "marker": {
             "colorbar": {
              "outlinewidth": 0,
              "ticks": ""
             }
            },
            "type": "scatter3d"
           }
          ],
          "scattercarpet": [
           {
            "marker": {
             "colorbar": {
              "outlinewidth": 0,
              "ticks": ""
             }
            },
            "type": "scattercarpet"
           }
          ],
          "scattergeo": [
           {
            "marker": {
             "colorbar": {
              "outlinewidth": 0,
              "ticks": ""
             }
            },
            "type": "scattergeo"
           }
          ],
          "scattergl": [
           {
            "marker": {
             "colorbar": {
              "outlinewidth": 0,
              "ticks": ""
             }
            },
            "type": "scattergl"
           }
          ],
          "scattermapbox": [
           {
            "marker": {
             "colorbar": {
              "outlinewidth": 0,
              "ticks": ""
             }
            },
            "type": "scattermapbox"
           }
          ],
          "scatterpolar": [
           {
            "marker": {
             "colorbar": {
              "outlinewidth": 0,
              "ticks": ""
             }
            },
            "type": "scatterpolar"
           }
          ],
          "scatterpolargl": [
           {
            "marker": {
             "colorbar": {
              "outlinewidth": 0,
              "ticks": ""
             }
            },
            "type": "scatterpolargl"
           }
          ],
          "scatterternary": [
           {
            "marker": {
             "colorbar": {
              "outlinewidth": 0,
              "ticks": ""
             }
            },
            "type": "scatterternary"
           }
          ],
          "surface": [
           {
            "colorbar": {
             "outlinewidth": 0,
             "ticks": ""
            },
            "colorscale": [
             [
              0,
              "#0d0887"
             ],
             [
              0.1111111111111111,
              "#46039f"
             ],
             [
              0.2222222222222222,
              "#7201a8"
             ],
             [
              0.3333333333333333,
              "#9c179e"
             ],
             [
              0.4444444444444444,
              "#bd3786"
             ],
             [
              0.5555555555555556,
              "#d8576b"
             ],
             [
              0.6666666666666666,
              "#ed7953"
             ],
             [
              0.7777777777777778,
              "#fb9f3a"
             ],
             [
              0.8888888888888888,
              "#fdca26"
             ],
             [
              1,
              "#f0f921"
             ]
            ],
            "type": "surface"
           }
          ],
          "table": [
           {
            "cells": {
             "fill": {
              "color": "#EBF0F8"
             },
             "line": {
              "color": "white"
             }
            },
            "header": {
             "fill": {
              "color": "#C8D4E3"
             },
             "line": {
              "color": "white"
             }
            },
            "type": "table"
           }
          ]
         },
         "layout": {
          "annotationdefaults": {
           "arrowcolor": "#2a3f5f",
           "arrowhead": 0,
           "arrowwidth": 1
          },
          "autotypenumbers": "strict",
          "coloraxis": {
           "colorbar": {
            "outlinewidth": 0,
            "ticks": ""
           }
          },
          "colorscale": {
           "diverging": [
            [
             0,
             "#8e0152"
            ],
            [
             0.1,
             "#c51b7d"
            ],
            [
             0.2,
             "#de77ae"
            ],
            [
             0.3,
             "#f1b6da"
            ],
            [
             0.4,
             "#fde0ef"
            ],
            [
             0.5,
             "#f7f7f7"
            ],
            [
             0.6,
             "#e6f5d0"
            ],
            [
             0.7,
             "#b8e186"
            ],
            [
             0.8,
             "#7fbc41"
            ],
            [
             0.9,
             "#4d9221"
            ],
            [
             1,
             "#276419"
            ]
           ],
           "sequential": [
            [
             0,
             "#0d0887"
            ],
            [
             0.1111111111111111,
             "#46039f"
            ],
            [
             0.2222222222222222,
             "#7201a8"
            ],
            [
             0.3333333333333333,
             "#9c179e"
            ],
            [
             0.4444444444444444,
             "#bd3786"
            ],
            [
             0.5555555555555556,
             "#d8576b"
            ],
            [
             0.6666666666666666,
             "#ed7953"
            ],
            [
             0.7777777777777778,
             "#fb9f3a"
            ],
            [
             0.8888888888888888,
             "#fdca26"
            ],
            [
             1,
             "#f0f921"
            ]
           ],
           "sequentialminus": [
            [
             0,
             "#0d0887"
            ],
            [
             0.1111111111111111,
             "#46039f"
            ],
            [
             0.2222222222222222,
             "#7201a8"
            ],
            [
             0.3333333333333333,
             "#9c179e"
            ],
            [
             0.4444444444444444,
             "#bd3786"
            ],
            [
             0.5555555555555556,
             "#d8576b"
            ],
            [
             0.6666666666666666,
             "#ed7953"
            ],
            [
             0.7777777777777778,
             "#fb9f3a"
            ],
            [
             0.8888888888888888,
             "#fdca26"
            ],
            [
             1,
             "#f0f921"
            ]
           ]
          },
          "colorway": [
           "#636efa",
           "#EF553B",
           "#00cc96",
           "#ab63fa",
           "#FFA15A",
           "#19d3f3",
           "#FF6692",
           "#B6E880",
           "#FF97FF",
           "#FECB52"
          ],
          "font": {
           "color": "#2a3f5f"
          },
          "geo": {
           "bgcolor": "white",
           "lakecolor": "white",
           "landcolor": "#E5ECF6",
           "showlakes": true,
           "showland": true,
           "subunitcolor": "white"
          },
          "hoverlabel": {
           "align": "left"
          },
          "hovermode": "closest",
          "mapbox": {
           "style": "light"
          },
          "paper_bgcolor": "white",
          "plot_bgcolor": "#E5ECF6",
          "polar": {
           "angularaxis": {
            "gridcolor": "white",
            "linecolor": "white",
            "ticks": ""
           },
           "bgcolor": "#E5ECF6",
           "radialaxis": {
            "gridcolor": "white",
            "linecolor": "white",
            "ticks": ""
           }
          },
          "scene": {
           "xaxis": {
            "backgroundcolor": "#E5ECF6",
            "gridcolor": "white",
            "gridwidth": 2,
            "linecolor": "white",
            "showbackground": true,
            "ticks": "",
            "zerolinecolor": "white"
           },
           "yaxis": {
            "backgroundcolor": "#E5ECF6",
            "gridcolor": "white",
            "gridwidth": 2,
            "linecolor": "white",
            "showbackground": true,
            "ticks": "",
            "zerolinecolor": "white"
           },
           "zaxis": {
            "backgroundcolor": "#E5ECF6",
            "gridcolor": "white",
            "gridwidth": 2,
            "linecolor": "white",
            "showbackground": true,
            "ticks": "",
            "zerolinecolor": "white"
           }
          },
          "shapedefaults": {
           "line": {
            "color": "#2a3f5f"
           }
          },
          "ternary": {
           "aaxis": {
            "gridcolor": "white",
            "linecolor": "white",
            "ticks": ""
           },
           "baxis": {
            "gridcolor": "white",
            "linecolor": "white",
            "ticks": ""
           },
           "bgcolor": "#E5ECF6",
           "caxis": {
            "gridcolor": "white",
            "linecolor": "white",
            "ticks": ""
           }
          },
          "title": {
           "x": 0.05
          },
          "xaxis": {
           "automargin": true,
           "gridcolor": "white",
           "linecolor": "white",
           "ticks": "",
           "title": {
            "standoff": 15
           },
           "zerolinecolor": "white",
           "zerolinewidth": 2
          },
          "yaxis": {
           "automargin": true,
           "gridcolor": "white",
           "linecolor": "white",
           "ticks": "",
           "title": {
            "standoff": 15
           },
           "zerolinecolor": "white",
           "zerolinewidth": 2
          }
         }
        },
        "xaxis": {
         "anchor": "y",
         "domain": [
          0,
          1
         ],
         "title": {
          "text": "User Rating"
         }
        },
        "yaxis": {
         "anchor": "x",
         "domain": [
          0,
          1
         ]
        }
       }
      }
     },
     "metadata": {},
     "output_type": "display_data"
    }
   ],
   "source": [
    "media = df[['User Rating']].mean()\n",
    "px.box(df, x = 'User Rating')"
   ]
  },
  {
   "cell_type": "code",
   "execution_count": 14,
   "metadata": {},
   "outputs": [],
   "source": [
    "#Como podemos ver, a media das avaliação estão entre 4.5 a 4.8, com mediana de 4.7"
   ]
  },
  {
   "attachments": {},
   "cell_type": "markdown",
   "metadata": {},
   "source": [
    "Exiba a média dos Reviews por livros."
   ]
  },
  {
   "cell_type": "code",
   "execution_count": 15,
   "metadata": {},
   "outputs": [
    {
     "data": {
      "application/vnd.plotly.v1+json": {
       "config": {
        "plotlyServerURL": "https://plot.ly"
       },
       "data": [
        {
         "alignmentgroup": "True",
         "hovertemplate": "Reviews=%{x}<extra></extra>",
         "legendgroup": "",
         "marker": {
          "color": "#636efa"
         },
         "name": "",
         "notched": false,
         "offsetgroup": "",
         "orientation": "h",
         "showlegend": false,
         "type": "box",
         "x": [
          5013,
          798,
          9769,
          1542,
          1541,
          3837,
          37,
          3181,
          720,
          956,
          5505,
          5505,
          1365,
          1636,
          3457,
          1930,
          1320,
          3828,
          2926,
          5680,
          4519,
          10426,
          8580,
          973,
          5069,
          1583,
          1680,
          9325,
          858,
          1859,
          3207,
          803,
          7251,
          10559,
          8587,
          13871,
          4028,
          4628,
          8747,
          1655,
          19720,
          3759,
          3503,
          3801,
          3319,
          438,
          11676,
          6740,
          3829,
          9967,
          460,
          491,
          615,
          471,
          22614,
          1542,
          4866,
          1924,
          2137,
          1651,
          2525,
          1555,
          1215,
          408,
          3457,
          2752,
          1467,
          26741,
          10426,
          548,
          8580,
          1985,
          3619,
          1265,
          5069,
          1907,
          637,
          3477,
          11813,
          3536,
          3523,
          440,
          3207,
          7747,
          7251,
          10559,
          13871,
          32122,
          9289,
          4628,
          4506,
          1201,
          2186,
          1204,
          2122,
          3796,
          3319,
          2282,
          29673,
          1302,
          2052,
          12643,
          4149,
          4505,
          22614,
          1542,
          4866,
          2094,
          6346,
          5594,
          9568,
          3457,
          15779,
          4571,
          5299,
          19576,
          9342,
          1649,
          26741,
          3163,
          8580,
          1985,
          7827,
          5069,
          637,
          2314,
          4587,
          3477,
          9325,
          11813,
          4633,
          2023,
          3207,
          7747,
          13871,
          13871,
          32122,
          16949,
          9289,
          4247,
          6222,
          1201,
          3759,
          4290,
          1463,
          11034,
          5977,
          29673,
          8958,
          3341,
          1296,
          22614,
          6346,
          23631,
          20262,
          47265,
          13964,
          5594,
          57271,
          3457,
          7038,
          15779,
          19576,
          8634,
          9342,
          26741,
          8093,
          21834,
          3163,
          13616,
          8580,
          10009,
          7827,
          5069,
          3477,
          9325,
          2580,
          1789,
          9372,
          50482,
          3207,
          11616,
          11098,
          32122,
          16949,
          9289,
          4247,
          6247,
          1201,
          2876,
          10795,
          14493,
          2091,
          6377,
          11034,
          1904,
          29673,
          7497,
          17044,
          10760,
          6310,
          12159,
          1329,
          4642,
          6679,
          6812,
          27098,
          15845,
          47265,
          5594,
          4799,
          57271,
          7038,
          4148,
          3490,
          4896,
          29651,
          19576,
          4748,
          11391,
          3673,
          6990,
          6132,
          21834,
          13616,
          8580,
          10009,
          7150,
          2272,
          220,
          5069,
          23114,
          3477,
          9325,
          23148,
          8922,
          50482,
          3207,
          23308,
          33844,
          11616,
          6982,
          5396,
          1201,
          2663,
          19546,
          7034,
          26234,
          7497,
          21625,
          19735,
          36348,
          2884,
          6679,
          6540,
          27098,
          17684,
          17323,
          3642,
          57271,
          5972,
          25001,
          3490,
          7153,
          19576,
          978,
          10927,
          3673,
          6990,
          1884,
          8491,
          18613,
          1386,
          5542,
          21834,
          21930,
          8580,
          3836,
          5069,
          3477,
          35799,
          6600,
          23148,
          8081,
          23358,
          8922,
          50482,
          50482,
          33844,
          11616,
          10101,
          1201,
          19546,
          11128,
          26234,
          2586,
          29673,
          29673,
          9292,
          21625,
          2925,
          2951,
          2426,
          36348,
          15921,
          5360,
          1909,
          11113,
          10070,
          4022,
          3871,
          10922,
          2134,
          5413,
          17323,
          14038,
          14982,
          25624,
          3564,
          25001,
          2812,
          19576,
          5235,
          3673,
          6990,
          18613,
          5542,
          21834,
          6169,
          8580,
          9366,
          5069,
          25554,
          4725,
          8081,
          23358,
          8922,
          23308,
          79446,
          22641,
          39459,
          49288,
          3428,
          19546,
          7508,
          6169,
          11128,
          26234,
          1873,
          21625,
          17350,
          23848,
          2313,
          9198,
          10070,
          3729,
          10369,
          4761,
          10922,
          5118,
          10721,
          4370,
          17323,
          14038,
          5867,
          19622,
          23973,
          10052,
          13471,
          15526,
          25001,
          19576,
          8916,
          6990,
          17739,
          5542,
          5178,
          21834,
          3503,
          8580,
          5069,
          25554,
          4725,
          2774,
          23308,
          79446,
          5249,
          22641,
          7861,
          49288,
          807,
          19546,
          7508,
          8842,
          11128,
          26234,
          4585,
          13779,
          21625,
          14331,
          21424,
          19699,
          23848,
          9374,
          14344,
          10922,
          4786,
          17323,
          14038,
          8837,
          3146,
          15526,
          25001,
          16643,
          8393,
          6990,
          3014,
          10199,
          17739,
          3113,
          3192,
          21834,
          1831,
          18904,
          16990,
          8580,
          4757,
          22536,
          5069,
          25554,
          4725,
          23308,
          5836,
          5249,
          29442,
          7368,
          22641,
          9784,
          19720,
          26490,
          5487,
          19546,
          7508,
          8842,
          7932,
          11128,
          4360,
          5492,
          21625,
          14331,
          18979,
          5983,
          5153,
          61133,
          6143,
          10922,
          5062,
          7235,
          5470,
          28729,
          10721,
          6042,
          13677,
          17323,
          14038,
          22288,
          8837,
          3776,
          25001,
          7396,
          2507,
          11881,
          7550,
          25706,
          9867,
          17739,
          21834,
          10820,
          16990,
          8580,
          22536,
          7802,
          23047,
          3923,
          25554,
          13061,
          23308,
          9947,
          7368,
          5898,
          3601,
          7058,
          9784,
          10191,
          26490,
          19546,
          8842,
          30183,
          6669,
          14331,
          7665,
          61133,
          14344,
          16244,
          7955,
          7235,
          12619,
          9089,
          28729,
          14038,
          7660,
          22288,
          10141,
          8837,
          5476,
          7758,
          5272,
          9737,
          16643,
          7396,
          7062,
          5347,
          7866,
          21834,
          10820,
          16990,
          7802,
          23047,
          9382,
          25554,
          12361,
          13061,
          23308,
          13609,
          22641,
          2744,
          27536,
          26490,
          11550,
          9030,
          19546,
          8842,
          30183,
          26234,
          5956,
          6108,
          8170,
          87841,
          9413,
          14331,
          121109,
          66795,
          73216,
          118767,
          38969,
          36689,
          38318,
          30145,
          41021,
          61064,
          19558,
          27722,
          52217,
          24386,
          26660,
          29902,
          19138,
          29913,
          51188,
          63659,
          53363,
          23944,
          24352,
          79334,
          16097,
          69801,
          17639,
          20182,
          39234,
          33469,
          60501,
          62463,
          43745,
          18142,
          44642,
          93749,
          38674,
          75798,
          49087,
          102544,
          26537,
          83490,
          47260,
          68099,
          100534,
          49978,
          35772,
          20918,
          208915,
          38798,
          60381,
          29510,
          7556,
          73216,
          12259,
          38969,
          23145,
          2873,
          38319,
          30513,
          18740,
          52262,
          35580,
          52217,
          20714,
          26660,
          61283,
          29913,
          51188,
          63658,
          76135,
          69801,
          39852,
          35287,
          20182,
          16861,
          25374,
          71078,
          60501,
          11921,
          38568,
          62463,
          71252,
          44642,
          93749,
          75798,
          96810,
          14385,
          77903,
          144313,
          14575,
          60969,
          38186,
          14463,
          64073,
          47260,
          20920,
          22602,
          49978,
          34117,
          29402,
          7556,
          73215,
          38969,
          23146,
          23735,
          14327,
          6020,
          61283,
          51188,
          63658,
          76137,
          1213,
          6959,
          9361,
          2438,
          69801,
          4910,
          17592,
          1685,
          10404,
          3366,
          56049,
          71078,
          4828,
          60501,
          6657,
          38568,
          62462,
          71252,
          44642,
          93749,
          5349,
          75798,
          3098,
          77903,
          38675,
          24858,
          17988,
          144314,
          14575,
          60969,
          64073,
          47260,
          206,
          20920,
          33929,
          71826,
          27052,
          208917
         ],
         "x0": " ",
         "xaxis": "x",
         "y0": " ",
         "yaxis": "y"
        }
       ],
       "layout": {
        "boxmode": "group",
        "legend": {
         "tracegroupgap": 0
        },
        "margin": {
         "t": 60
        },
        "template": {
         "data": {
          "bar": [
           {
            "error_x": {
             "color": "#2a3f5f"
            },
            "error_y": {
             "color": "#2a3f5f"
            },
            "marker": {
             "line": {
              "color": "#E5ECF6",
              "width": 0.5
             },
             "pattern": {
              "fillmode": "overlay",
              "size": 10,
              "solidity": 0.2
             }
            },
            "type": "bar"
           }
          ],
          "barpolar": [
           {
            "marker": {
             "line": {
              "color": "#E5ECF6",
              "width": 0.5
             },
             "pattern": {
              "fillmode": "overlay",
              "size": 10,
              "solidity": 0.2
             }
            },
            "type": "barpolar"
           }
          ],
          "carpet": [
           {
            "aaxis": {
             "endlinecolor": "#2a3f5f",
             "gridcolor": "white",
             "linecolor": "white",
             "minorgridcolor": "white",
             "startlinecolor": "#2a3f5f"
            },
            "baxis": {
             "endlinecolor": "#2a3f5f",
             "gridcolor": "white",
             "linecolor": "white",
             "minorgridcolor": "white",
             "startlinecolor": "#2a3f5f"
            },
            "type": "carpet"
           }
          ],
          "choropleth": [
           {
            "colorbar": {
             "outlinewidth": 0,
             "ticks": ""
            },
            "type": "choropleth"
           }
          ],
          "contour": [
           {
            "colorbar": {
             "outlinewidth": 0,
             "ticks": ""
            },
            "colorscale": [
             [
              0,
              "#0d0887"
             ],
             [
              0.1111111111111111,
              "#46039f"
             ],
             [
              0.2222222222222222,
              "#7201a8"
             ],
             [
              0.3333333333333333,
              "#9c179e"
             ],
             [
              0.4444444444444444,
              "#bd3786"
             ],
             [
              0.5555555555555556,
              "#d8576b"
             ],
             [
              0.6666666666666666,
              "#ed7953"
             ],
             [
              0.7777777777777778,
              "#fb9f3a"
             ],
             [
              0.8888888888888888,
              "#fdca26"
             ],
             [
              1,
              "#f0f921"
             ]
            ],
            "type": "contour"
           }
          ],
          "contourcarpet": [
           {
            "colorbar": {
             "outlinewidth": 0,
             "ticks": ""
            },
            "type": "contourcarpet"
           }
          ],
          "heatmap": [
           {
            "colorbar": {
             "outlinewidth": 0,
             "ticks": ""
            },
            "colorscale": [
             [
              0,
              "#0d0887"
             ],
             [
              0.1111111111111111,
              "#46039f"
             ],
             [
              0.2222222222222222,
              "#7201a8"
             ],
             [
              0.3333333333333333,
              "#9c179e"
             ],
             [
              0.4444444444444444,
              "#bd3786"
             ],
             [
              0.5555555555555556,
              "#d8576b"
             ],
             [
              0.6666666666666666,
              "#ed7953"
             ],
             [
              0.7777777777777778,
              "#fb9f3a"
             ],
             [
              0.8888888888888888,
              "#fdca26"
             ],
             [
              1,
              "#f0f921"
             ]
            ],
            "type": "heatmap"
           }
          ],
          "heatmapgl": [
           {
            "colorbar": {
             "outlinewidth": 0,
             "ticks": ""
            },
            "colorscale": [
             [
              0,
              "#0d0887"
             ],
             [
              0.1111111111111111,
              "#46039f"
             ],
             [
              0.2222222222222222,
              "#7201a8"
             ],
             [
              0.3333333333333333,
              "#9c179e"
             ],
             [
              0.4444444444444444,
              "#bd3786"
             ],
             [
              0.5555555555555556,
              "#d8576b"
             ],
             [
              0.6666666666666666,
              "#ed7953"
             ],
             [
              0.7777777777777778,
              "#fb9f3a"
             ],
             [
              0.8888888888888888,
              "#fdca26"
             ],
             [
              1,
              "#f0f921"
             ]
            ],
            "type": "heatmapgl"
           }
          ],
          "histogram": [
           {
            "marker": {
             "pattern": {
              "fillmode": "overlay",
              "size": 10,
              "solidity": 0.2
             }
            },
            "type": "histogram"
           }
          ],
          "histogram2d": [
           {
            "colorbar": {
             "outlinewidth": 0,
             "ticks": ""
            },
            "colorscale": [
             [
              0,
              "#0d0887"
             ],
             [
              0.1111111111111111,
              "#46039f"
             ],
             [
              0.2222222222222222,
              "#7201a8"
             ],
             [
              0.3333333333333333,
              "#9c179e"
             ],
             [
              0.4444444444444444,
              "#bd3786"
             ],
             [
              0.5555555555555556,
              "#d8576b"
             ],
             [
              0.6666666666666666,
              "#ed7953"
             ],
             [
              0.7777777777777778,
              "#fb9f3a"
             ],
             [
              0.8888888888888888,
              "#fdca26"
             ],
             [
              1,
              "#f0f921"
             ]
            ],
            "type": "histogram2d"
           }
          ],
          "histogram2dcontour": [
           {
            "colorbar": {
             "outlinewidth": 0,
             "ticks": ""
            },
            "colorscale": [
             [
              0,
              "#0d0887"
             ],
             [
              0.1111111111111111,
              "#46039f"
             ],
             [
              0.2222222222222222,
              "#7201a8"
             ],
             [
              0.3333333333333333,
              "#9c179e"
             ],
             [
              0.4444444444444444,
              "#bd3786"
             ],
             [
              0.5555555555555556,
              "#d8576b"
             ],
             [
              0.6666666666666666,
              "#ed7953"
             ],
             [
              0.7777777777777778,
              "#fb9f3a"
             ],
             [
              0.8888888888888888,
              "#fdca26"
             ],
             [
              1,
              "#f0f921"
             ]
            ],
            "type": "histogram2dcontour"
           }
          ],
          "mesh3d": [
           {
            "colorbar": {
             "outlinewidth": 0,
             "ticks": ""
            },
            "type": "mesh3d"
           }
          ],
          "parcoords": [
           {
            "line": {
             "colorbar": {
              "outlinewidth": 0,
              "ticks": ""
             }
            },
            "type": "parcoords"
           }
          ],
          "pie": [
           {
            "automargin": true,
            "type": "pie"
           }
          ],
          "scatter": [
           {
            "fillpattern": {
             "fillmode": "overlay",
             "size": 10,
             "solidity": 0.2
            },
            "type": "scatter"
           }
          ],
          "scatter3d": [
           {
            "line": {
             "colorbar": {
              "outlinewidth": 0,
              "ticks": ""
             }
            },
            "marker": {
             "colorbar": {
              "outlinewidth": 0,
              "ticks": ""
             }
            },
            "type": "scatter3d"
           }
          ],
          "scattercarpet": [
           {
            "marker": {
             "colorbar": {
              "outlinewidth": 0,
              "ticks": ""
             }
            },
            "type": "scattercarpet"
           }
          ],
          "scattergeo": [
           {
            "marker": {
             "colorbar": {
              "outlinewidth": 0,
              "ticks": ""
             }
            },
            "type": "scattergeo"
           }
          ],
          "scattergl": [
           {
            "marker": {
             "colorbar": {
              "outlinewidth": 0,
              "ticks": ""
             }
            },
            "type": "scattergl"
           }
          ],
          "scattermapbox": [
           {
            "marker": {
             "colorbar": {
              "outlinewidth": 0,
              "ticks": ""
             }
            },
            "type": "scattermapbox"
           }
          ],
          "scatterpolar": [
           {
            "marker": {
             "colorbar": {
              "outlinewidth": 0,
              "ticks": ""
             }
            },
            "type": "scatterpolar"
           }
          ],
          "scatterpolargl": [
           {
            "marker": {
             "colorbar": {
              "outlinewidth": 0,
              "ticks": ""
             }
            },
            "type": "scatterpolargl"
           }
          ],
          "scatterternary": [
           {
            "marker": {
             "colorbar": {
              "outlinewidth": 0,
              "ticks": ""
             }
            },
            "type": "scatterternary"
           }
          ],
          "surface": [
           {
            "colorbar": {
             "outlinewidth": 0,
             "ticks": ""
            },
            "colorscale": [
             [
              0,
              "#0d0887"
             ],
             [
              0.1111111111111111,
              "#46039f"
             ],
             [
              0.2222222222222222,
              "#7201a8"
             ],
             [
              0.3333333333333333,
              "#9c179e"
             ],
             [
              0.4444444444444444,
              "#bd3786"
             ],
             [
              0.5555555555555556,
              "#d8576b"
             ],
             [
              0.6666666666666666,
              "#ed7953"
             ],
             [
              0.7777777777777778,
              "#fb9f3a"
             ],
             [
              0.8888888888888888,
              "#fdca26"
             ],
             [
              1,
              "#f0f921"
             ]
            ],
            "type": "surface"
           }
          ],
          "table": [
           {
            "cells": {
             "fill": {
              "color": "#EBF0F8"
             },
             "line": {
              "color": "white"
             }
            },
            "header": {
             "fill": {
              "color": "#C8D4E3"
             },
             "line": {
              "color": "white"
             }
            },
            "type": "table"
           }
          ]
         },
         "layout": {
          "annotationdefaults": {
           "arrowcolor": "#2a3f5f",
           "arrowhead": 0,
           "arrowwidth": 1
          },
          "autotypenumbers": "strict",
          "coloraxis": {
           "colorbar": {
            "outlinewidth": 0,
            "ticks": ""
           }
          },
          "colorscale": {
           "diverging": [
            [
             0,
             "#8e0152"
            ],
            [
             0.1,
             "#c51b7d"
            ],
            [
             0.2,
             "#de77ae"
            ],
            [
             0.3,
             "#f1b6da"
            ],
            [
             0.4,
             "#fde0ef"
            ],
            [
             0.5,
             "#f7f7f7"
            ],
            [
             0.6,
             "#e6f5d0"
            ],
            [
             0.7,
             "#b8e186"
            ],
            [
             0.8,
             "#7fbc41"
            ],
            [
             0.9,
             "#4d9221"
            ],
            [
             1,
             "#276419"
            ]
           ],
           "sequential": [
            [
             0,
             "#0d0887"
            ],
            [
             0.1111111111111111,
             "#46039f"
            ],
            [
             0.2222222222222222,
             "#7201a8"
            ],
            [
             0.3333333333333333,
             "#9c179e"
            ],
            [
             0.4444444444444444,
             "#bd3786"
            ],
            [
             0.5555555555555556,
             "#d8576b"
            ],
            [
             0.6666666666666666,
             "#ed7953"
            ],
            [
             0.7777777777777778,
             "#fb9f3a"
            ],
            [
             0.8888888888888888,
             "#fdca26"
            ],
            [
             1,
             "#f0f921"
            ]
           ],
           "sequentialminus": [
            [
             0,
             "#0d0887"
            ],
            [
             0.1111111111111111,
             "#46039f"
            ],
            [
             0.2222222222222222,
             "#7201a8"
            ],
            [
             0.3333333333333333,
             "#9c179e"
            ],
            [
             0.4444444444444444,
             "#bd3786"
            ],
            [
             0.5555555555555556,
             "#d8576b"
            ],
            [
             0.6666666666666666,
             "#ed7953"
            ],
            [
             0.7777777777777778,
             "#fb9f3a"
            ],
            [
             0.8888888888888888,
             "#fdca26"
            ],
            [
             1,
             "#f0f921"
            ]
           ]
          },
          "colorway": [
           "#636efa",
           "#EF553B",
           "#00cc96",
           "#ab63fa",
           "#FFA15A",
           "#19d3f3",
           "#FF6692",
           "#B6E880",
           "#FF97FF",
           "#FECB52"
          ],
          "font": {
           "color": "#2a3f5f"
          },
          "geo": {
           "bgcolor": "white",
           "lakecolor": "white",
           "landcolor": "#E5ECF6",
           "showlakes": true,
           "showland": true,
           "subunitcolor": "white"
          },
          "hoverlabel": {
           "align": "left"
          },
          "hovermode": "closest",
          "mapbox": {
           "style": "light"
          },
          "paper_bgcolor": "white",
          "plot_bgcolor": "#E5ECF6",
          "polar": {
           "angularaxis": {
            "gridcolor": "white",
            "linecolor": "white",
            "ticks": ""
           },
           "bgcolor": "#E5ECF6",
           "radialaxis": {
            "gridcolor": "white",
            "linecolor": "white",
            "ticks": ""
           }
          },
          "scene": {
           "xaxis": {
            "backgroundcolor": "#E5ECF6",
            "gridcolor": "white",
            "gridwidth": 2,
            "linecolor": "white",
            "showbackground": true,
            "ticks": "",
            "zerolinecolor": "white"
           },
           "yaxis": {
            "backgroundcolor": "#E5ECF6",
            "gridcolor": "white",
            "gridwidth": 2,
            "linecolor": "white",
            "showbackground": true,
            "ticks": "",
            "zerolinecolor": "white"
           },
           "zaxis": {
            "backgroundcolor": "#E5ECF6",
            "gridcolor": "white",
            "gridwidth": 2,
            "linecolor": "white",
            "showbackground": true,
            "ticks": "",
            "zerolinecolor": "white"
           }
          },
          "shapedefaults": {
           "line": {
            "color": "#2a3f5f"
           }
          },
          "ternary": {
           "aaxis": {
            "gridcolor": "white",
            "linecolor": "white",
            "ticks": ""
           },
           "baxis": {
            "gridcolor": "white",
            "linecolor": "white",
            "ticks": ""
           },
           "bgcolor": "#E5ECF6",
           "caxis": {
            "gridcolor": "white",
            "linecolor": "white",
            "ticks": ""
           }
          },
          "title": {
           "x": 0.05
          },
          "xaxis": {
           "automargin": true,
           "gridcolor": "white",
           "linecolor": "white",
           "ticks": "",
           "title": {
            "standoff": 15
           },
           "zerolinecolor": "white",
           "zerolinewidth": 2
          },
          "yaxis": {
           "automargin": true,
           "gridcolor": "white",
           "linecolor": "white",
           "ticks": "",
           "title": {
            "standoff": 15
           },
           "zerolinecolor": "white",
           "zerolinewidth": 2
          }
         }
        },
        "xaxis": {
         "anchor": "y",
         "domain": [
          0,
          1
         ],
         "title": {
          "text": "Reviews"
         }
        },
        "yaxis": {
         "anchor": "x",
         "domain": [
          0,
          1
         ]
        }
       }
      }
     },
     "metadata": {},
     "output_type": "display_data"
    }
   ],
   "source": [
    "media = df[['Reviews']].mean()\n",
    "px.box(df, x = 'Reviews')"
   ]
  },
  {
   "cell_type": "code",
   "execution_count": 16,
   "metadata": {},
   "outputs": [],
   "source": [
    "#Como podemos ver, a media dos Reviews estão entre 4.961 a 23.358 com a mediana de 10.284"
   ]
  },
  {
   "attachments": {},
   "cell_type": "markdown",
   "metadata": {},
   "source": [
    "Mostre se há alguma correlação entre os reviews e os preços."
   ]
  },
  {
   "cell_type": "code",
   "execution_count": 17,
   "metadata": {},
   "outputs": [
    {
     "name": "stdout",
     "output_type": "stream",
     "text": [
      "Correlação: -0.11455401495261175\n"
     ]
    },
    {
     "data": {
      "text/plain": [
       "<seaborn.axisgrid.FacetGrid at 0x20b58786350>"
      ]
     },
     "execution_count": 17,
     "metadata": {},
     "output_type": "execute_result"
    },
    {
     "data": {
      "image/png": "[encoded data removed]",
      "text/plain": [
       "<Figure size 500x500 with 1 Axes>"
      ]
     },
     "metadata": {},
     "output_type": "display_data"
    }
   ],
   "source": [
    "print(f\"Correlação: {df['Reviews'].corr(df['Price'])}\")\n",
    "sns.lmplot(df, x = 'Reviews', y ='Price' )"
   ]
  },
  {
   "attachments": {},
   "cell_type": "markdown",
   "metadata": {},
   "source": [
    "Mostre se há alguma correlação entre os reviews e as avaliações dos usuarios."
   ]
  },
  {
   "cell_type": "code",
   "execution_count": 18,
   "metadata": {},
   "outputs": [
    {
     "name": "stdout",
     "output_type": "stream",
     "text": [
      "Correlação: 0.08042250566638542\n"
     ]
    },
    {
     "data": {
      "text/plain": [
       "<seaborn.axisgrid.FacetGrid at 0x20b5c32faf0>"
      ]
     },
     "execution_count": 18,
     "metadata": {},
     "output_type": "execute_result"
    },
    {
     "data": {
      "image/png": "[encoded data removed]",
      "text/plain": [
       "<Figure size 500x500 with 1 Axes>"
      ]
     },
     "metadata": {},
     "output_type": "display_data"
    }
   ],
   "source": [
    "print(f\"Correlação: {df['Reviews'].corr(df['User Rating'])}\")\n",
    "sns.lmplot(df, x = 'Reviews', y ='User Rating')"
   ]
  },
  {
   "cell_type": "code",
   "execution_count": null,
   "metadata": {},
   "outputs": [],
   "source": [
    "#mostra que não há uma correlação tão forte entre Reviews e avaliações dos usuarios."
   ]
  },
  {
   "attachments": {},
   "cell_type": "markdown",
   "metadata": {},
   "source": [
    "Mostre se há regularidade entre os Reviews e as avaliações"
   ]
  },
  {
   "cell_type": "code",
   "execution_count": 21,
   "metadata": {},
   "outputs": [
    {
     "data": {
      "image/png": "[encoded data removed]",
      "text/plain": [
       "<Figure size 1200x800 with 1 Axes>"
      ]
     },
     "metadata": {},
     "output_type": "display_data"
    }
   ],
   "source": [
    "plt.subplots(figsize=(12,8))\n",
    "sns.boxplot(y = 'Reviews' , x = 'User Rating', data = df)\n",
    "regular = df.groupby(['Reviews'], as_index=False)['User Rating'].std()"
   ]
  },
  {
   "cell_type": "code",
   "execution_count": 89,
   "metadata": {},
   "outputs": [],
   "source": [
    "#Como podemos ver, houve outliers principalmente nas avaliações de 4.8"
   ]
  },
  {
   "attachments": {},
   "cell_type": "markdown",
   "metadata": {},
   "source": [
    "Existem Livros outliers em termos de Avaliações?"
   ]
  },
  {
   "cell_type": "code",
   "execution_count": 25,
   "metadata": {},
   "outputs": [
    {
     "data": {
      "image/png": "[encoded data removed]",
      "text/plain": [
       "<Figure size 1300x400 with 1 Axes>"
      ]
     },
     "metadata": {},
     "output_type": "display_data"
    },
    {
     "name": "stdout",
     "output_type": "stream",
     "text": [
      "Esses são outliers menos populares nas avaliações\n"
     ]
    },
    {
     "data": {
      "text/html": [
       "<div>\n",
       "<style scoped>\n",
       "    .dataframe tbody tr th:only-of-type {\n",
       "        vertical-align: middle;\n",
       "    }\n",
       "\n",
       "    .dataframe tbody tr th {\n",
       "        vertical-align: top;\n",
       "    }\n",
       "\n",
       "    .dataframe thead th {\n",
       "        text-align: right;\n",
       "    }\n",
       "</style>\n",
       "<table border=\"1\" class=\"dataframe\">\n",
       "  <thead>\n",
       "    <tr style=\"text-align: right;\">\n",
       "      <th></th>\n",
       "      <th>Name</th>\n",
       "      <th>Author</th>\n",
       "      <th>User Rating</th>\n",
       "      <th>Reviews</th>\n",
       "      <th>Price</th>\n",
       "      <th>Year</th>\n",
       "      <th>Genre</th>\n",
       "    </tr>\n",
       "  </thead>\n",
       "  <tbody>\n",
       "    <tr>\n",
       "      <th>24</th>\n",
       "      <td>StrengthsFinder 2.0</td>\n",
       "      <td>Gallup</td>\n",
       "      <td>4.0</td>\n",
       "      <td>5069</td>\n",
       "      <td>17</td>\n",
       "      <td>2009</td>\n",
       "      <td>Non Fiction</td>\n",
       "    </tr>\n",
       "    <tr>\n",
       "      <th>29</th>\n",
       "      <td>The Elegance of the Hedgehog</td>\n",
       "      <td>Muriel Barbery</td>\n",
       "      <td>4.0</td>\n",
       "      <td>1859</td>\n",
       "      <td>11</td>\n",
       "      <td>2009</td>\n",
       "      <td>Fiction</td>\n",
       "    </tr>\n",
       "    <tr>\n",
       "      <th>74</th>\n",
       "      <td>StrengthsFinder 2.0</td>\n",
       "      <td>Gallup</td>\n",
       "      <td>4.0</td>\n",
       "      <td>5069</td>\n",
       "      <td>17</td>\n",
       "      <td>2010</td>\n",
       "      <td>Non Fiction</td>\n",
       "    </tr>\n",
       "    <tr>\n",
       "      <th>123</th>\n",
       "      <td>StrengthsFinder 2.0</td>\n",
       "      <td>Gallup</td>\n",
       "      <td>4.0</td>\n",
       "      <td>5069</td>\n",
       "      <td>17</td>\n",
       "      <td>2011</td>\n",
       "      <td>Non Fiction</td>\n",
       "    </tr>\n",
       "    <tr>\n",
       "      <th>155</th>\n",
       "      <td>Fifty Shades of Grey: Book One of the Fifty Sh...</td>\n",
       "      <td>E L James</td>\n",
       "      <td>3.8</td>\n",
       "      <td>47265</td>\n",
       "      <td>14</td>\n",
       "      <td>2012</td>\n",
       "      <td>Fiction</td>\n",
       "    </tr>\n",
       "    <tr>\n",
       "      <th>158</th>\n",
       "      <td>Gone Girl</td>\n",
       "      <td>Gillian Flynn</td>\n",
       "      <td>4.0</td>\n",
       "      <td>57271</td>\n",
       "      <td>10</td>\n",
       "      <td>2012</td>\n",
       "      <td>Fiction</td>\n",
       "    </tr>\n",
       "    <tr>\n",
       "      <th>173</th>\n",
       "      <td>StrengthsFinder 2.0</td>\n",
       "      <td>Gallup</td>\n",
       "      <td>4.0</td>\n",
       "      <td>5069</td>\n",
       "      <td>17</td>\n",
       "      <td>2012</td>\n",
       "      <td>Non Fiction</td>\n",
       "    </tr>\n",
       "    <tr>\n",
       "      <th>178</th>\n",
       "      <td>The Casual Vacancy</td>\n",
       "      <td>J.K. Rowling</td>\n",
       "      <td>3.3</td>\n",
       "      <td>9372</td>\n",
       "      <td>12</td>\n",
       "      <td>2012</td>\n",
       "      <td>Fiction</td>\n",
       "    </tr>\n",
       "    <tr>\n",
       "      <th>200</th>\n",
       "      <td>Allegiant</td>\n",
       "      <td>Veronica Roth</td>\n",
       "      <td>3.9</td>\n",
       "      <td>6310</td>\n",
       "      <td>13</td>\n",
       "      <td>2013</td>\n",
       "      <td>Fiction</td>\n",
       "    </tr>\n",
       "    <tr>\n",
       "      <th>208</th>\n",
       "      <td>Fifty Shades of Grey: Book One of the Fifty Sh...</td>\n",
       "      <td>E L James</td>\n",
       "      <td>3.8</td>\n",
       "      <td>47265</td>\n",
       "      <td>14</td>\n",
       "      <td>2013</td>\n",
       "      <td>Fiction</td>\n",
       "    </tr>\n",
       "    <tr>\n",
       "      <th>211</th>\n",
       "      <td>Gone Girl</td>\n",
       "      <td>Gillian Flynn</td>\n",
       "      <td>4.0</td>\n",
       "      <td>57271</td>\n",
       "      <td>10</td>\n",
       "      <td>2013</td>\n",
       "      <td>Fiction</td>\n",
       "    </tr>\n",
       "    <tr>\n",
       "      <th>230</th>\n",
       "      <td>StrengthsFinder 2.0</td>\n",
       "      <td>Gallup</td>\n",
       "      <td>4.0</td>\n",
       "      <td>5069</td>\n",
       "      <td>17</td>\n",
       "      <td>2013</td>\n",
       "      <td>Non Fiction</td>\n",
       "    </tr>\n",
       "    <tr>\n",
       "      <th>239</th>\n",
       "      <td>The Goldfinch: A Novel (Pulitzer Prize for Fic...</td>\n",
       "      <td>Donna Tartt</td>\n",
       "      <td>3.9</td>\n",
       "      <td>33844</td>\n",
       "      <td>20</td>\n",
       "      <td>2013</td>\n",
       "      <td>Fiction</td>\n",
       "    </tr>\n",
       "    <tr>\n",
       "      <th>259</th>\n",
       "      <td>Gone Girl</td>\n",
       "      <td>Gillian Flynn</td>\n",
       "      <td>4.0</td>\n",
       "      <td>57271</td>\n",
       "      <td>9</td>\n",
       "      <td>2014</td>\n",
       "      <td>Fiction</td>\n",
       "    </tr>\n",
       "    <tr>\n",
       "      <th>278</th>\n",
       "      <td>StrengthsFinder 2.0</td>\n",
       "      <td>Gallup</td>\n",
       "      <td>4.0</td>\n",
       "      <td>5069</td>\n",
       "      <td>17</td>\n",
       "      <td>2014</td>\n",
       "      <td>Non Fiction</td>\n",
       "    </tr>\n",
       "    <tr>\n",
       "      <th>288</th>\n",
       "      <td>The Goldfinch: A Novel (Pulitzer Prize for Fic...</td>\n",
       "      <td>Donna Tartt</td>\n",
       "      <td>3.9</td>\n",
       "      <td>33844</td>\n",
       "      <td>20</td>\n",
       "      <td>2014</td>\n",
       "      <td>Fiction</td>\n",
       "    </tr>\n",
       "    <tr>\n",
       "      <th>316</th>\n",
       "      <td>Go Set a Watchman: A Novel</td>\n",
       "      <td>Harper Lee</td>\n",
       "      <td>3.6</td>\n",
       "      <td>14982</td>\n",
       "      <td>19</td>\n",
       "      <td>2015</td>\n",
       "      <td>Fiction</td>\n",
       "    </tr>\n",
       "    <tr>\n",
       "      <th>331</th>\n",
       "      <td>StrengthsFinder 2.0</td>\n",
       "      <td>Gallup</td>\n",
       "      <td>4.0</td>\n",
       "      <td>5069</td>\n",
       "      <td>17</td>\n",
       "      <td>2015</td>\n",
       "      <td>Non Fiction</td>\n",
       "    </tr>\n",
       "    <tr>\n",
       "      <th>366</th>\n",
       "      <td>Harry Potter and the Cursed Child, Parts 1 &amp; 2...</td>\n",
       "      <td>J.K. Rowling</td>\n",
       "      <td>4.0</td>\n",
       "      <td>23973</td>\n",
       "      <td>12</td>\n",
       "      <td>2016</td>\n",
       "      <td>Fiction</td>\n",
       "    </tr>\n",
       "    <tr>\n",
       "      <th>380</th>\n",
       "      <td>StrengthsFinder 2.0</td>\n",
       "      <td>Gallup</td>\n",
       "      <td>4.0</td>\n",
       "      <td>5069</td>\n",
       "      <td>17</td>\n",
       "      <td>2016</td>\n",
       "      <td>Non Fiction</td>\n",
       "    </tr>\n",
       "    <tr>\n",
       "      <th>428</th>\n",
       "      <td>StrengthsFinder 2.0</td>\n",
       "      <td>Gallup</td>\n",
       "      <td>4.0</td>\n",
       "      <td>5069</td>\n",
       "      <td>17</td>\n",
       "      <td>2017</td>\n",
       "      <td>Non Fiction</td>\n",
       "    </tr>\n",
       "    <tr>\n",
       "      <th>596</th>\n",
       "      <td>Wacky Waving Inflatable Tube Guy (RP Minis)</td>\n",
       "      <td>Conor Riordan</td>\n",
       "      <td>4.0</td>\n",
       "      <td>35772</td>\n",
       "      <td>12</td>\n",
       "      <td>2020</td>\n",
       "      <td>Fiction</td>\n",
       "    </tr>\n",
       "  </tbody>\n",
       "</table>\n",
       "</div>"
      ],
      "text/plain": [
       "                                                  Name          Author  \\\n",
       "24                                 StrengthsFinder 2.0          Gallup   \n",
       "29                        The Elegance of the Hedgehog  Muriel Barbery   \n",
       "74                                 StrengthsFinder 2.0          Gallup   \n",
       "123                                StrengthsFinder 2.0          Gallup   \n",
       "155  Fifty Shades of Grey: Book One of the Fifty Sh...       E L James   \n",
       "158                                          Gone Girl   Gillian Flynn   \n",
       "173                                StrengthsFinder 2.0          Gallup   \n",
       "178                                 The Casual Vacancy    J.K. Rowling   \n",
       "200                                          Allegiant   Veronica Roth   \n",
       "208  Fifty Shades of Grey: Book One of the Fifty Sh...       E L James   \n",
       "211                                          Gone Girl   Gillian Flynn   \n",
       "230                                StrengthsFinder 2.0          Gallup   \n",
       "239  The Goldfinch: A Novel (Pulitzer Prize for Fic...     Donna Tartt   \n",
       "259                                          Gone Girl   Gillian Flynn   \n",
       "278                                StrengthsFinder 2.0          Gallup   \n",
       "288  The Goldfinch: A Novel (Pulitzer Prize for Fic...     Donna Tartt   \n",
       "316                         Go Set a Watchman: A Novel      Harper Lee   \n",
       "331                                StrengthsFinder 2.0          Gallup   \n",
       "366  Harry Potter and the Cursed Child, Parts 1 & 2...    J.K. Rowling   \n",
       "380                                StrengthsFinder 2.0          Gallup   \n",
       "428                                StrengthsFinder 2.0          Gallup   \n",
       "596        Wacky Waving Inflatable Tube Guy (RP Minis)   Conor Riordan   \n",
       "\n",
       "     User Rating  Reviews  Price  Year        Genre  \n",
       "24           4.0     5069     17  2009  Non Fiction  \n",
       "29           4.0     1859     11  2009      Fiction  \n",
       "74           4.0     5069     17  2010  Non Fiction  \n",
       "123          4.0     5069     17  2011  Non Fiction  \n",
       "155          3.8    47265     14  2012      Fiction  \n",
       "158          4.0    57271     10  2012      Fiction  \n",
       "173          4.0     5069     17  2012  Non Fiction  \n",
       "178          3.3     9372     12  2012      Fiction  \n",
       "200          3.9     6310     13  2013      Fiction  \n",
       "208          3.8    47265     14  2013      Fiction  \n",
       "211          4.0    57271     10  2013      Fiction  \n",
       "230          4.0     5069     17  2013  Non Fiction  \n",
       "239          3.9    33844     20  2013      Fiction  \n",
       "259          4.0    57271      9  2014      Fiction  \n",
       "278          4.0     5069     17  2014  Non Fiction  \n",
       "288          3.9    33844     20  2014      Fiction  \n",
       "316          3.6    14982     19  2015      Fiction  \n",
       "331          4.0     5069     17  2015  Non Fiction  \n",
       "366          4.0    23973     12  2016      Fiction  \n",
       "380          4.0     5069     17  2016  Non Fiction  \n",
       "428          4.0     5069     17  2017  Non Fiction  \n",
       "596          4.0    35772     12  2020      Fiction  "
      ]
     },
     "execution_count": 25,
     "metadata": {},
     "output_type": "execute_result"
    }
   ],
   "source": [
    "plt.subplots(figsize=(13,4))\n",
    "ax = sns.boxplot(x = 'User Rating', data = df)\n",
    "ax = ax.set_xlabel(\"Popularidade das Avaliações\")\n",
    "plt.show()\n",
    "\n",
    "print(f\"Esses são outliers menos populares nas avaliações\")\n",
    "df[df['User Rating'] <= 4]"
   ]
  },
  {
   "attachments": {},
   "cell_type": "markdown",
   "metadata": {},
   "source": [
    "Faça uma análise dos livros mais vendidos da Amazon de acordo com seus generos."
   ]
  },
  {
   "cell_type": "code",
   "execution_count": 26,
   "metadata": {},
   "outputs": [
    {
     "data": {
      "image/png": "[encoded data removed]",
      "text/plain": [
       "<Figure size 700x700 with 1 Axes>"
      ]
     },
     "metadata": {},
     "output_type": "display_data"
    }
   ],
   "source": [
    "no_dup = df.drop_duplicates('Name')\n",
    "g_count = no_dup['Genre'].value_counts()\n",
    "\n",
    "fig, ax = plt.subplots(figsize=(7, 7))\n",
    "\n",
    "def autopct(values):\n",
    "    def porcentagem(pct):\n",
    "        total = sum(values)\n",
    "        valor = int(round(pct*total/100.0))\n",
    "        return '{p:.2f}%\\n({v:d})'.format(p=pct,v=valor)\n",
    "    return porcentagem\n",
    "\n",
    "center_circle = plt.Circle((10, 0), 0.7)\n",
    "plt.pie(x=g_count.values, labels=g_count.index, autopct=autopct(g_count.values), \n",
    "          startangle=90, textprops={'size': 12}, pctdistance=0.5)\n",
    "ax.add_artist(center_circle)\n",
    "\n",
    "ax = ax.set_xlabel(\"Distribuição de gênero para todos os livros exclusivos de 2009 a 2022\"),ax.set_title(\"Dispersão dos votos\")\n",
    "plt.show()\n",
    "\n",
    "#Nota!!!\n",
    "#o genero dos livros é um dado categórico divido em dois tipos, ficção e não ficção!"
   ]
  },
  {
   "attachments": {},
   "cell_type": "markdown",
   "metadata": {},
   "source": [
    "Mostre os 10 autores mais vendidos nas categorias de ficção e não-ficção"
   ]
  },
  {
   "cell_type": "code",
   "execution_count": 27,
   "metadata": {},
   "outputs": [
    {
     "data": {
      "image/png": "[encoded data removed]",
      "text/plain": [
       "<Figure size 1000x700 with 2 Axes>"
      ]
     },
     "metadata": {},
     "output_type": "display_data"
    }
   ],
   "source": [
    "best_nf_authors = df.groupby(['Author', 'Genre']).agg({'Name': 'count'}).unstack()['Name', 'Non Fiction'].sort_values(ascending=False)[:11]\n",
    "best_f_authors = df.groupby(['Author', 'Genre']).agg({'Name': 'count'}).unstack()['Name', 'Fiction'].sort_values(ascending=False)[:11]\n",
    "\n",
    "genre_col = ['purple','plum']\n",
    "\n",
    "with plt.style.context('bmh'):\n",
    "    fig, ax = plt.subplots(1, 2, figsize=(10,7))\n",
    "    \n",
    "    ax[0].barh(y=best_nf_authors.index, width=best_nf_authors.values,\n",
    "           color=genre_col[0])\n",
    "    ax[0].invert_xaxis()\n",
    "    ax[0].yaxis.tick_left()\n",
    "    ax[0].set_xticks((best_nf_authors.values)+1)\n",
    "    ax[0].set_xlabel('Número de aparições')\n",
    "    ax[0].set_title('Autores de não ficção')\n",
    "    \n",
    "    ax[1].barh(y=best_f_authors.index, width=best_f_authors.values,\n",
    "           color=genre_col[1])\n",
    "    ax[1].yaxis.tick_right()\n",
    "    ax[1].set_xticks(((best_f_authors.values)+1))\n",
    "    ax[1].set_xlabel('Número de aparições')\n",
    "    ax[1].set_title('Autores de Ficção')\n",
    "    \n",
    "    fig.legend(['Não Ficção', 'Ficção'], fontsize=12)\n",
    "    \n",
    "plt.show()"
   ]
  }
 ],
 "metadata": {
  "kernelspec": {
   "display_name": "Python 3",
   "language": "python",
   "name": "python3"
  },
  "language_info": {
   "codemirror_mode": {
    "name": "ipython",
    "version": 3
   },
   "file_extension": ".py",
   "mimetype": "text/x-python",
   "name": "python",
   "nbconvert_exporter": "python",
   "pygments_lexer": "ipython3",
   "version": "3.10.9 (tags/v3.10.9:1dd9be6, Dec  6 2022, 20:01:21) [MSC v.1934 64 bit (AMD64)]"
  },
  "orig_nbformat": 4,
  "vscode": {
   "interpreter": {
    "hash": "da41a09902426c17f8b1259e92b559cedcb2a26624b80b6e2df84a72ad457b4e"
   }
  }
 },
 "nbformat": 4,
 "nbformat_minor": 2
}
